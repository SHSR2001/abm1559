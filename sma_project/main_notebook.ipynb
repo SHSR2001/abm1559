{
 "cells": [
  {
   "cell_type": "markdown",
   "id": "4ac385ce-2fe7-40b0-8011-95bf3d782c2b",
   "metadata": {},
   "source": [
    "### Introduction to Ethereum's EIP-1559 and legacy transaction fee markets in general \n",
    "\n",
    "#### How does the Ethereum blockchain works with miners?\n",
    "\n",
    "- In a blockchain, specifically Ethereum in our case, a **Proof of Work** (POW) blockchain, transactions are packed into **blocks** which are interconnected in a sequential manner. \n",
    "\n",
    "- The person putting the transactions together is known as a **miner** and uses computational resources to bundle transactions, process the transactions and keep the chain growing. The cost of this can be very high.\n",
    "\n",
    "- Users submitting the transactions gives the miners a monetary reward for including their transactions in the next block. This is in the form of transaction fees that the user submitting the transaction pays, and is called the **gas price**.\n",
    "\n",
    "- The space occupied in a blockchain is measured in a unit known as **gas** and the **gas price** is essentially the transaction fee per **unit gas** occupied by the transaction.\n",
    "\n",
    "- Some transactions are fairly simple (E.g: Simple cryptocurrency transfers) while some of them are more complex (E.g: Transactions that store data from an application which is built on the blockchain). The simpler ones take up lesser space, while the more complex ones take up more space. \n",
    "\n",
    "- Miners are now economically incentivized to include and process transactions in the block, with hopes of their earnings from the tips being greater than their initial investment to keep maintain and add blocks to the Ethereum chain in a decentralized manner.\n",
    "\n",
    "![image.png](data:image/png;base64,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)\n",
    "\n",
    "#### Old system:\n",
    "\n",
    "- In the old system, the process of paying tips to get your transaction included in a block resembles a **first price auction** system.\n",
    "- The higher gas price which the user was willing to pay for inclusion of transaction in a block, the more likely his/her's transaction is included in the next block to be processed.\n",
    "\n",
    "#### Drawbacks of the old system: \n",
    "\n",
    "- Over bidding for inclusion\n",
    "- Unfairly pricing out users that cannot afford high gas prices during certain periods of time\n",
    "\n",
    "Moreover, previously the economic value captured by the use of network (the protocol fee) was awarded to the miner. This would thus the protocol fee wasn't be very binding. It could therefore lead to unfair bidding in scenarios where for instance the miner could offer rebates by subsidising a transaction and sharing revenue with the user.\n",
    "\n",
    "\n",
    "#### New system:\n",
    "\n",
    "- Under EIP-1559, it aimed to address these abovementioned issues by introducing a dynamically adjusted **base-fee** which is dependent on market conditions. This means transaction fees are now split into 2 components: basefee and **miner's tip** \n",
    "- When a user submits a transaction they will need to specify: what tip are they willing to pay, what is the maximum transaction fees they are willing to pay for inclusion (tip, maxfee)\n",
    "- The basefee is calculated by the system based on a simple forumla as given below:\n",
    "\n",
    "![image.png](data:image/png;base64,iVBORw0KGgoAAAANSUhEUgAAAVgAAABYCAYAAACwG+/0AAAgAElEQVR4nO3dd3iU153o8e87vTdNVRtV1CVMx1RjG2KMMTZO3OJNddZJbpJ7b+4+m7vZu3eTzSbZTXaTdW62OLZJc8UdN7AxRfQqJCEkqgBJSAh1jTSaGb3v/QPRJTTYEkhwPs/DPzwzo3fOzPzec37nnN+RFEVREARBEEac6kZfgCAIws1KBFhBEIRRIgKsIAjCKBEBVhAEYZSIACsIgjBKRIAVBEEYJSLACoIgjBIRYAVBEEaJCLCCIAijRARYQRCEUSICrCAIwigRAVYQBGGUiAArCIIwSkSAFQRBGCUiwAqCIIwSEWAFQRBGiQiwgiAIo0QEWEEQhFEiAqwQN7llDy/94les3F1He+RGX82tRqb16BEaOkJExCFP8elr5Ejtabp6op/q6UrbLl56+j95c9tRWvs+XaOLACvERT6zkz/803+wRUkh3WfHrLnRV3SLUTrZ9eoK3t17nJa4f+wykVA7zc3t9ERi3FpxWaFjxys889pmDjX1IH+KV5AsWUzKDLF+xTO8VnqIM+Frb0HxMxGGpXQfYOW//oZ1zOKJJXMp8FvQilvz9aVE6Giq53RHL9H+YR9MqPJtnnnhHdZtP0izaxF/+w9PcmeuH4N0PS722vRWv8MzL62n6lQXaA2YDHq0Kpm+nh7CkX7QGjEZdWgkhUhfD+G+fmRtDvd9+1HuyE3EOth3UWll1/pyYp5CDBbTRT1Jma66CnbtrOBIcxhdQjrFUyeTk2jHqLmscbQOMuc9wqOnn+a3f1yBzvANlk1Px6GN/72JACtcnXyaTc/+kpdOpvGFby9ierb7yi+icB0onOuCDt+PkjAEZ7LssS6ObdnMoagOo0qLdkx+bD2Ur36TddVGJi+8nwUTU3GatKjkE7zz07/nufV9zPhff8ujd+Th04MS7eDY+t/z6zcP0tDWw1D3Grl5BxtrE8iblYjvXERUOqla9QKrDvThSknF64xxqPR3/PD55yh48CmeemA66S49FzeTxpLIpPu/xIO1P+PFF98h4H6M+Tke9HG2pQiwwlXEOPnBf/Cb1WEmP7mM+UXJWEXXdVxQW32kmGR6o1qCBQV47VbUN/qiBhMqZ0ddMvc8ei93zy0h1WFAo5JQ2k/S1dpJh7GAKZOKua0oC7saUGKke+rZeOg46Ub9EIFOpnFbKXWefBYk+bFrARTatq1k1TEbRfOmMjHbi1kdY2pxIrEf/4iXnv5HVNZ/4jv3FpNkvvg7LqFzTeDuLz1C5d89w4srkwl8/R4KA6a48qvi1yIMKXbyQ5753Tr6Jy9j8YwcvCYNY7ITJAxCprWygiOdLrKKAtjt1zCuvY66K8rpK1jAzKnFBJ1GNKqz37BwTTkHmjrQZk8k1+vAfO7uIGkwWi14UtPwmY3oBvtCynVs3XSaQEEWiT7b2V6k3My21esp23+UkN6C1e7A7nCTOGEODy++DUdvBW+8WcrRU52D5Gs1WILz+eLDE+ktfZWVpQdp7IkvHysCrDA4uYl1v3+eT8ITWbZkOjleEyIzMJ70cKD8AC2mIAVBJ/Z4x7TXk9JNRVWUjKJkAh4j6vOXGKO2fD/1bTGCxQX4HLZLhtpySyt6jw+jafBeZH/tFja3JVOQmYjPOhCZ5WaOHztK2QcreOWTw5zqGEguSEYSJ2Tgs6poqqmhvqNr8FUaajOp8x9haV43m99+jz3HmolnrlGkCIRBKHTtepU/vFdPyue/xfQJfswiusYv1sbh7aVsqzmDbA1y26zJJGmiqGx2LHrd9blRRQ6xr7IJkmbgOlPFpjc309RlIGPGPCZnerCMhYSspCdjwX1McHuwX9wVlRupqDxGS8jHguJEHJf1viX3XJYutOJOMAwyoopyZNMWQqmzyQh4sZzr+aqTmfG5z7Ff10pOsR+H6aLQHIsRkxX6VSrUSEOO0tTWLBY/dhdrfvAub340g5zAXLJdVx8ZiB6scKXYSda8/BaVpuksnZdHkl0nUgNxijXv4oWf/B2/WdeCu3gWt2eFKH3xn/j+l77MT16upL7z+iyWip0sp+JEO31nathbJ+HJm8mM5Abe/NXTrNxWS9uYWEyrwZOajMtsuKSnp3RWUXGwmU57HsVBJ47Llj5IpgApASsm/SDhK3KQ0h1R0grSCXgv6uFKNvIWf4O//ru/4tHb00g4/5oRDlUc4FR7hGBxMUku+1UmA7U4i5eyuERN5ZoP2X28ieEyBSLAClfoKV/FG5uaSJr7OSYG3ZjG5OzI2KOEKnn1lz/nhcMeZi6Yx4yiLDLyZ5KvHKW86hRdagXpuowZz+ZfD7drSZl5N4sWTKMgO53sKcW4Tm/gjXd3UN/cez0uZBgSKpUKSbo0op3Nv3aizS5mQoID0+VRSlKhkgbvafZVlbJLySA/zY/bdOlkld7uIzklkQSz7nw6Qm7ZzvtrK2i2zuPx5TPIDpivGhQlY5AF980msWUrH205eiHVMAQRYIVLKe1sf+9DynuzmDcvG79D9F7j00f1m8+w4oN6AvMWMK0wFbtejUpvQd3XRdSVTX6aHZtBAmROfPArfvy7j6hp7BmFDQAhDuw7QIt1IosXTWdiphuTVo3GbMYodVFTXk1nZ+jsQ+UTfPjrf+B3H1VzKjQWerVn8691bVGCRQV4L8u/Xl0PFaV70WTmEfR7MA73xZVb2PHKH1hTn8h9/+1bPHR7Fi7DcCFRg3vKQmanRSn7aB1VdWe42qZGkYMVLiGf2cLqDYeR8p5iZtCDbSzk6sYBpWsnq94spUYzhS+WpOKzDKy4iNVSdfAMSvIM8t32szlBuYHtqz9gnyXI/f2j0L6Rw+zb34SUNIfiJA/Wgc9Q6Wyiua2XHqkfRTkbTOWGHaz+cB+m5CX0DxNb5Jat/OHf/sy6A6foHnazA4CEypjD0u/9JffdFsQZz0KGgfxra49/0Pzr1Shd+9hQYSD7wVR8CfphOgZ9HPvwGZ7dIDPjK9/jsaUzSXca4lrKprIVcsesbF793VY2H7qfKdleAkNMIooAK1xE5vTWtWw7AZmLJ5HosogvSJxiNTvYfuQMpvwpTPA4MA4EK7mxnIqj3XimF+Kzn+2NKe0V7Dkg433Qj9UyXCC4dnJDFQfqevHMzsNjv/AZ9h2u5nBrCGtxCgajEVBor9zDgX43y/w2rMOsNJCsudz1+DeZ2B2mP97OrtqCP92LJc4vktIxkH+1FVMcdF2Rf73KM+ncu5FqSw5fSPaTMOj6rXNiNG35A8991EXhQ19nyYJJpLkM8U8+SmZyZ00j68//xa6tR2icnos/cbAJNxFghYsprezetIcGOZ2Ft/lxxvuruOUphE410NyjJjU3C6f13OSKQsf+fVS32ckoSsYWq+GjV/dSs3cVq493k1a5mjfe6mHJPdPJ9FoZqZWq/Y31NPS4SM8LYLPqBv43Qs2uMk52JzD59lw4tYWVGw+xZ9VqartSqVzzBm+Fl3DP9Cy81sGvRNI5SclxkjJC1zmYcE05VY2d6CYMkX8ditLKrg2HceQ+SpLfOfj62LMPpKP8Df78SYjsRZ9nwe35JFr1qJVGNn9yjEB+LikB5zCfhYRxwmSKU/Ss2LmNo00zyQskDroNWeRghfOUrnK27z1FOLGESQF73L0OQUJrMKDTuPD5rBh0AwNNpYOybeU0aYIUZriwe9OZOHsuWfow6glzWHb/Uh64cyLJDuOI9nQUFJBceL0m9AO9UqWrjE9KD9Gfu4RlM7PIKpjE7LlZGCJqJsxexv1LH+DOiSnYjTdyRjPGsYpK6tsH8q9Oa9ztIjfvYOPxBPImXLQ1dhA9R9awckMHwdkLWTS7gCSbHrUESncNZdWn6Q71xxUUJUs+txUG0DeUs6/hDB2xwR8nfkLCeZGDeyg/1YVzZhF+q2XEelS3AmPhDCanfMzxjm76ov2g9HHko+d4/v1y2n1fJc9jx2KwovW3094cwpczhYKcPDKSTSOeItCm5ZLt3kp/KEIspoCmk/LX/8TajnwefPIhZmV7sJk1WDvbae72MWFyATn5mSSbbnC+PXqCvWVHae70cGehH7st3m+gTOO2jTT48rkz0Yd9iKgWbdjI879+njUnVXgPVbPjQ+3ZYKr0Ez69n7rErzFTY4yv1ynZyM/LwCF9TMWBFtpnyvhcVz5znARYmUiog/YeCZvTil6jvoVntmUioU7ae8DqsGLQjlRbyDQeqKYhZCA9Pw2beeRzg2OCEqO3s51u2YTDakQ7Qqv+Vd65fP37T/D7NR+zckUlToManVTH6XYVabcXE7BbB/Kvlew7rCX1oVSc9sHzdp+V5JnDY0/s4ve7PmGt6iT6ht1sP2znnqe+xL3z8ge2PCu07S/niDaFZalO7DeozJbcuI3XXt9IVUMr3S2H2LbhKO0x2LPy3/nFvgAOTwlLHlnIxBTX0JXA5Dq2lrYQmJh5YWvsFY+p56Pnfssf31pDTReo1aqL2l5BjumZ/n0rOlO833s17uxMEq3vU7X/CC0dU1FcliueO8YDrEJo32v89oX32bT7MC2e+/jJz7/GrLQEdMM/+SajECp/g/948T027jxEi/tefvzTrzM7041+RF4/zNFDtXT0uZmdZcdkvNbskUx7dSmV/bkUZXiwX/PzR1sv1aue5cV317GtuhnrnT/gZ99YwAS/cWReXm0jY86jPJXVSgQ1Kgl6tz/NC5KPnJIU7Lazy916a8qp7gswJ9OF3dhL7aEzOBK92Mxx9pziuhYnhfc9xXcnnaalPYSctJSCu30kpfhwmM6tAQ1zsLyasP92shLsmHprOXzGjt9rx3IdPzvJmcPsxW5KwlFi0V4e/mqUfhk0BiNGnRa1zobPY7lKTnVga2xnMtMzAvgsQ6Q4pASmPPpD/v2u7xIebIZO0uIM5pLujD8k6tOySHMa2Hz0MGc6u4hx5ahvjAdYCUP6LB58rItDn3xCtcOAWaUdm1WBRp2EIe12Hnikk0Pr1lFt02NUaUbuA4zVc/hoC736NIIeE8Z4lmfJPbQ1NtJw4jAVO9by7tvr6Lvz5/z0yTljMMDqSJ66hC/0HmPT+kr6NEbQjlQSRCHSG0bS2UnOcA30YkJseeUobeYMirNcA+0Ro6HmEC3uNLI9NrTH17Ox0stcuxe7eYQuBQAJnSOJTJuXpN4IaPTodRpUF3+k/Q3UHGolITgBj03H8fWlVHhnY/M6sIzkpQx3pXonienOz/AKUQ5v2kpv6lzSA94LRWGu+EMGvFnFeLM+w5+6/CWtSSS6zaj3nqCuK0SvwhW7wMbar+AKalsiaeZ+eqJ6MkuKSbCYbtEAC2pbgKBFpjemI6OkCI/VPHJt0VdLbX2IPkcSyRZDfPUuwyfYuXYtmypbMBjDNJyoo/5MiEjca3gGJ9dt5K21+znV1jeCi/DVWPxBnESIaIMUFPmwjcgsnkzdmn/le3/xF/zdyirqu85eceT4x7y1/hSeWYuYFvRytuaIGntyEJ+mneqNb/Hqxm5SspNIcIxOOkZSaTGazRj1lwVXAJWd5DQv2o5qNr71Khu7k8lKdOMYi0VhriZSM7A1NojfE18JwRGjCRDwmtB3neREazehQSa6xngPFkCmpbyMwyEfsyb6sA55i7oVyLSW7+Nwl5dpJX6sIzjNL7c1crqrD5we3Po4izPrU5h05z3kS3oMx07ye72avhG4ltiJ7bxfmkZaVjI+5wgGH6WLqn0HaXdmUZxkwzYieaZ+Wg7uYvfBFuZKMkqsjdqd63jl969RP+ERvvOVuyn0n7sRSjinf40fueqJ6O1YrS58Pgdm3Q3o50hOpn3l73HWR9DbrFhdPnxOMzfiUj6L3qpSdpPJ4mAAT9xrukaIyo7Xa8cgHaaxuZdw35Vd2HEQYHuo3FNFmz2bkqAN8y29s6iHyrIqWm1ZFKfasVx1MfW16T9zhpa+GEaXG5NWF19PQG3GnXh2bBtt1KK+opv0KUV66OjuJfoZe8JXvm4NZVWnMQbvJ91pG6HjUzRk3vdd/rdxDw1t21nzVhk6vZm8Zd/lc5lZZCW7MF1UpFxtTSSvxENMUaNWq67sWQ5JQpIG/o3EZaPGmphHiSeGolajVqnG4aRmD/tL96HLup+gP+EGHIejweGwoleHaG0J0xdRgPEWYCPV7ClvQpt+LwmNZaw79AnNIRMTZi1gUprj1jq+JHKQveVNaIJ3k3C6nA1vbOB0yEj27fOZlObC9BluPrGWM7T1xTDa7Gg1N8coIdZ+hJ2l26k+3YMmMJm5CdvYVy+TdH8eCdarF/WIn4QldQqLlmfTGQoTlUGtM2G12zAPNjQHJLX22pfAqazkLViMO8ePbcSG8RLqEctD3wgS5uyFPJBaSMqwW2NHgwqrzYpW00t7Ww+RiMzlWdcxPyCIHd9L2YluYi0H2HlCS2LhTKb5j/LCz37Fm2Wn6Bpige/NKHaijH0nuoi1VLPrpBp/wXSm+Wt5+Z//jTf21NPx6U4nBhT6urrpjckYLBa06rF/3706mZa9L/Oz//sb1p5xUjhzNnl9W3nlz++z/bSHnCIfdusIvkdJi8nhxp+UTEpKMok+F1bD4MH10zOQNf9upqady+cKoCd91t1MywpcWk/2upGwWszoNArdXd1EBjmNcoz/kmTO7NvL4U4jGUsXsuiOyeSlOdH6irH/y9/y0jvTmJHmwuo2jMLfjtC4ey0H9FOYnOUeqII0jO7d/OmfV7C2pjHOYhgD1FamPPE3fG1B5lXySAO56E4DwXvuZtH8qeSnO9H6i3H8+v/wyjuTmZbmxu77NG2hEA5H6O+X0RsMqNTjcbh4Qc+B1/iXn/2R4/lP8K25MyhOs4H7FB+/8Dv6XNMoTh6p/Ov1JKG32kdoSd7NQoXBar2hf1+n06FWqYiE++jv7+fyJMEYD7Dd7N+znzbXNL66eDpFaa6zKQGzFRMdVO6pItQ9G9wGkGtZ9YvnaZrxVR6YHryooO5FlBAHNpahLS4m1WEddG2d0lHBh+/uoq6zjp1vvU906b+TkZwQX4A1ZDL/0W9Q0B0mdi3pQ0mDMyWAbbACwueF2L+3ilbHFL54zwyKMs61hQUjHVSVVRHqngM+A8jHee9fV3Bq8hPcPyMDz7B12yDSF0FWFPRaLSppHIfXvoO8/cyzvFuXwne+M52ioAO9WgKbllhPFHduEemOq+dfla5DrP9gC03uadw1LQu35erD6J6eHqLR6PkKVcL4JUkSZrMZjSa+0KjValCpJKLRCLI82GleY1nkIHvKm9GkPUBJohOT5lzZtVM0tfXR6+w/u+8akOu28N57+/AVRxiyApzSSvmaDRgS0/A6rINuVpBMQSbNtZMX3kH1S3/mWFcf/Ve22+A0DlLyHKNTDCNykLKKJtTBxZQkubCcb4tGTreH6TVfVIKufisfvL8PV84Xhm6LSyjEYjEUWTlbAPl69F9De3jhlyv4uOoUXZf19uUzB9jZaOYH+1/HYdZeejVqK5Mf/2u+smACfsvlNySFzl1v8/r6ajSTv8jEoO98O8VqD3CwWUXqrDwSbFfLvyq0bXuF3z79EuXmB8h5+ju4c3xXfStPP/00W7ZsIRK5WmVQYTwwmUz86Ec/oqioKK7HSyoVaklC7o8hK+MswMp1FVTWRUi6rxC3+cL6176aKg51hHEVB9Hp9YBC276d7CeJmX7zVSZ7YoTaO5Gj/chXTvidpbXhS7FB5AR2g3bMJKnl+kr210UILMrHfdFa4L6DVRxqC2PPSUVnMAAKbeW7qVL8fNFvwRxnbkqjUSNJErH+CzetUaXPYO7DXye388refmzPc/z95kQeXz6b3ETrpR+TpMGZkjREGbsIB7Zs5mCzkcKpE/A4z+2Okmkq38fRHi+3D5t/lTCn5lGcW4DOV4DZOvxOr+XLl3PHHXcM2oMRxhe1Wk0wGIz/CYqCDKjVGiRpnNUiiDWcpK7XS06hH7P5fFVLDmzfTV2vnxlzc4geW8/Lq4+x7+21NPTlUv7eStQdS7h3WhpO03V+e6EyXvl/r7DlaAu9cvxhSlKZKHzwezw2J+2yYy4uiJ2qo77XTVZBAIv53JC1j+qde6nr9TBtTg79JzbyytqjlL3zESd7s6j44HV03Uu4Z1o6CearBxWdTotKJRGLRpHl6xBgNQ5Scgfv7Ud6P8R1JJ2CkilMznDEf5OT2zlxvIkeTRoFOS6s53aTKZ1UllXT5siiONmOJXSKU2EnLosB/SATRrr0u3jyhyX06hNI9Ay/ryk7OzveKxRuMv2xfmRZQTuQi73cmA6woIAqAb/fiO58VfbdrF5/BPXEz7N8epCgLxmnT6b8T5C34CGW3juJjJQA5sF+OaNNn8qUu+7F1xKK60jfcySVEX+eG8vVVnkrCoo00Ba6c22xlzXrDyMVPciDM9JJT0ojwSdT8aJEzrwHWbpkKlkpAazDtoUKvV6PWiURiUSQFfmKZP34cHZyTnInkWI3Yjj3tnv2s7uiCX3aMjIcJk5teI/qnDuYmZ0yaICVdHYC6fbreeHCuKTQG+4j1i+j1elRq6/8Mo3pAKvNyCfHtYO+7iixfgXUnex9eQUf90zhi//jIaYFnViNaiydbTSGEimcWUhuXiY+gwRyC4e2V3KirefCOedKM/tP1qLftB5drYdz1dkktY1gyUQyPZ9xJ4vGSXrJdFL65WsbZEsqNBoNg9wAz9Nm5JGTsJ1Id/RsCTp1J2WvrmBtaCKPfuchZmQkDLRFO6e7AxRMLyI3L4tAHBNcAEabDaNWTUd3J9FYDK5xvlqJRIj099M3kOy/IQFaZSe3MAvnXjXRfhkZINbMjrfeYFPNGWwPZmLXn2ZPbZRAvpobWvr0JtHXeJRTKi9el4XrPWC88WRCoR5iMTBbLWgHqfI3pptE8t7Bl7+ygxUbPmRt/yE4to2th/089D+Xs2ROFi6DGgmF1vI9HDJkMv/i3U1yL22nT1Hf2En4fIBtoy3Uha6xgTolfP5QNEntwjahIP5jMIa+YlQaLbpRaFXJM58nvrSTFZvX8IlyFNXx7Ww97GXZdx9kydwJuAfaoq2ijEOGdP4i1Y7lGhakq11O7DoNxzo6icbiXGMWO876F99h+9FTNOxfT01bH13rn+WXynZS3ElMefALLMgLEHdZz89MS9Z9X+dL+59j9+qPcTS66K1vot83m0V3lLOmo4rSleX0+OcwNcHJmKtHM94oHex89b/YEXyM5XcUE7SNvzHPZyPT2dlFX78Rn8uEfpBVQGM6wKJJoGT5d/jeyWbaO3uQvcsoWOQnJRjAcX4hdy8H9lYRC97HBKcFfe9RDjYnkOJ3k3f7AoKRfs5PPcgnCW07iWH+nSzITMZ2rj0kDWaHhauukrrRNC6KH/gW36trpq2jB9l3P/kL/aSk+nEYtQNtEaa6rIpo8kKyXVYMvcc42Owi2W/FNMxpmaqEBJw6Nb3tbYRj0bOJ++GuSe2hcP5iEqeGCfcu49G+GLKkw2Q2otPocSQ6r3MvUcIQmM4j3/dy4nQbXRENtvRCPIl+9LdlMPVYCxGNncTMbJIchjEzgTn6eql+91le3VDNqW7QGowY9FrUch+hnjDRfgmt0YRBp0YlRwn3honEZLQ5S/jmI/PI8V9Z5xRAad3FurIo3kId5otGSnJXPRW7d7H/2BnCOhfpRVOYNCERm+Fmq+PcT1trO+GoCVeC4Xzq7mJjO8AioXemkmPzEw5HQGO4suxarJ6qmlb8uXm4zSqOfryOipR78ARsOBO8XLIMWQ5jN1kwun34AgEcw/7ClIF/Y8HZtpgwTFscqGnFm5mL26Kh9pP1VCbeRYLfhmmYV1e5EwnY9UgtjZwOR4gqnD87fuhLMuFOzcT9Gd/ZFS/rSCQ71YtFr7n2H6TKQEJaLo7EML1R0Bn0aNUqJGcRdl8vEXQYdJqRq5swHvRUsPq1tew3TeLue+ZTkuLEqFWhnFjFT3/8PKXRmXz/b5YzN8eHHploxzHW/+Fp3q6uozUUGyLdI9O8YwPHXPnMSfJy9vBXhc6qVbz4Xs3ZqmweK32HN/DMyyvQFC3nqW/cz5SgI75KbeOB3MGZli76ZCdejxHDIG9sjAfYsyS1DqN5iK03ajspaT5ULftZ98Yx1I5sZibZsXzaffl9R9i4ais1tVvYfLKDuvV/5g+qPeTO+Bz3TAniuMGJpuHaIjnNi7qtig1v1qF1ZjI90Yk1jqVakiFIMGBGe6yBhp4++oDR2B8XD032Ur7h0+NJMH7KHo+EWmfEckkzqdAazLfkMTihiu2cTFrEI0sWMrckFadRi0pSaK9/idbOTgxFU5kycTITM+2oASWWibdhI4dPpGHSDbHHX25k28Y6PIV3k+S1owWUtu2sXHUUS+Es5pdk47Vo6J9SiK/vx/zk1V/zU5WFn3/7HgoC17ms4Gjpb6ChqZuwLZNUp3nQWrTjIsBeleTi9qf+kYR6GbPThtXlx+8yof20n6DWT/7MuaSUTGTynCeIaK04rUZMTv+NWZlwLSQnM5/8B1wN/ZgcViwuP4F4S9CpEkkLOjCsP8WJ5l7CUbDfoO2kktlH6ogWoL6VdVOxL0zBXYuYVpKGy3RumB6mpryKpg4NEybm4XFcqC0saUzYrT5S0/2YTLpBA6xct5XS0wFKliTitWkAmeZtH/DJ3ibys+7gTocTl0UDDgfzH1nMqg928fZrb1K6+DZSfRnYb4IIq3TWUXc6hOJLI2izDHoC7vgPsGiwpxQzyRcFzdmSeUP3eqykFudhsBmHrneqMuNOMuMG0kflekeTBltKEbfF1RaXkUxMyEnHpt3A4cMd9MyWGXfFQYUrKN2VVEUyKEkJ4DFelAON1VJeWU97LI3PFXpxXLL5QqalTY831TjE0UH91G7ZRGvydDITPZw9pUWmufYoR8s2sEPOZV5JCr4sFyokTMm5ZPqtUHGAmvoOuiPKDTsDbCRFjx/jRHsPtrxMEqyWQYPpTRBgAVZ2kdsAAAbfSURBVCQ0uji6WyoH0x64F8lhJ87VS+NQnG1xBTWBkiLSbGs5XnOcrlAJiv3TDtGFsULSpTF/SRZer+OS2htyYwUVtS30+O+iONFx2UoPCffsJSy0+Qav6RE9wqbNIYJzMwh4LAM9XzVJ0xex8A4t7fn5eG0Xf3f66Y/J0K9GUjEeF1gPQubUwUM0dOnJKEjDOcRv5SYJsPHSYPOO9JTMzUOfNZGCgIk91ZWc6lpALsZb8HDJm4zWS1rq2ULdFyh0VpVT09yNvaSENKf9suI3EqakNIySNGjJxcjBjWyLpnN3+sWnCEjY8+/lL38wG9nsxuO4cGJu5HAFBxo7iATvoCjRie1mKJqvdHLwwFFalSBzC3y4bIOHUjEGFM6TLMVMvy0R7ckyypo66L6Fau3etCQVKpXEpQXSwtTsq6KpU0t2yQQS7FdOOkkq1RBV1fqoKt2FklFAut99Sd5RMjhJDKaR7LagP1cIX25h+3trqWy2Me/x5czI8mO+GaJOqIqyylOE/cWUJCXgGKKrejO8VWGkSC6mzp1Csvoou8ua6QxdS1FbYdyI1bKvsp72aJDigmssPt5TwcY9arILgnjdhmFG+zItO1/lj2vqSVz6bb790O1kum6O9cfh6p3sPRnCWzKZoNs15LHiN8N7FUaMCve0O5iaJHNg007q27oRIfbmIzdWUFnbQk+giJJE+8Aa1ngodO/bQIUhh4JUHwnDLGjtq13Ns8+uJzb9y3z3yQeYke64UB9iXOulatsujoYSmXZ7Nv6r3GhEgBUuoUqYzuL5WSjVpWw70UKnSBPcZBQ6zuVf80oIOu3xL/xXOtmz4QCW3HxSfEP32gBiTVv543Nr6Mh/kK9/eRmzJrgvOfxxPFO6yli/qYZwcA5z85LxXGVFxM3xjoWRo3IyedliJhkOsn5dDc3tI3EQtzB2XMi/Thgi/zoUpW0XGw7ZyctLxuscfH0snD0V5M0XPqErcyEPLf8cUzISMGqgcctattU20T6ub9oyrTvXsumwRO6ds8lNTrjqjUYEWOEyEpace3lgTgIn1n3IrroWQqKO9M0jVkt5ZR3tsTSKC73XkH+Vad6+gVp3AblJXhxDpRV6jvLRa+tpT7mdhYvmUJhsP3tkj9JN9d4DnO7ujvOUjTEqUssnqzZy0jmDxTNzSXZor5qHvsWWaQlx0SUx//HllGz7M+99Us30oIdM5624yfTmEz2xh71HztDluZsivz3+SmdyE9s2NuArWEii1zZ44IieYuPzv+a5j+pQ+45waM/HAzsqFWLh0+w/7udrs7QMU3doDFNo37WKt3f1kbPsHqbk+AfdHnsxEWCFQahxFCznq/eu44cfvk3p3Al4b0sWx0WPSzJN21/njdJqGtu7OXNwK+uPdRBT7eX1//wXKgJ23MVLePiuYpKcQ9QdAOT6LZQ2B7jtvgCeQXu9MvUfP8dv//gmHx3sBrUG9flAqiD3R9FN+yv+u844fou9hA+x+vXV1AXm8+35JaQ5hk6TnCMCrDAoSe9j+uNfZsGOX/D2W9uZnOKiwHeTFOm4pUjYs2Zwt6OAcCRKpHcZj303howWo9mIXqNG50jEdfnhkpfo5/jmzXSkzCAz4B3YGnvl33Hd9nn++t/m8s1w/yA16CS0CRkUpjmGL4M5JkWo/egFVlZamf3lxczM8cRVilMEWGEIEsaU+Xztm+X88FcreWNLDt5F+fiGODNMGKskDAkpZCV8hpeIHqF0S4jUeen4PeYhAqSE0Z/DJH/OZ/hDY1ff8Y/448tlmGc9ztI5BfjN8ZXSFL8WYWgqC6lzvsw3l9jZ88pLrK1qpGtczwALn0bkYCnbo+kUpvkv2hp761C6D/D2My9R5ZrPF+6fR5HfjCbONMet11rCNVGZAkx9+Fs8NuEEb//+DXbUttInVhXcQsJUbdwFmYWk+d233jE7sUY2/+kZPmjLYcnDS5mV68YYb3RFBFhhWBJ6TwGLn/w293vKeXnFu+w+2XHhIEnh5tZTSWmZluyCVHwJw22NvcnILex55b949aCb+Z//PIsmB7FfY01okYMV4qDBmjKZe7+ixrL+MOGePiIx0ImVWzc/yUTm3csIFqYMuzX2ZqN0N9OqK2Txw0VMLk4nwXjtRxhJiqKIvogQpxih1jaiejsWow6NGP/c/OReOroUjCYDuptkq2vcot20dsoYrCaMuk9xPhwiwAqCIIyaW+yWJAiCcP2IACsIgjBKRIAVBEEYJSLACoIgjBIRYAVBEEaJCLCCIAijRARYQRCEUSICrCAIwigRAVYQBGGUiAArCIIwSkSAFQRBGCUiwAqCIIwSEWAFQRBGiQiwgiAIo+T/A5TT7gQ96aG4AAAAAElFTkSuQmCC)\n",
    "\n",
    "- In the above formula, `bt+1` is the base-fee at time (t+1) and `bt` the basefee at time (t), `gt|bt` is the number of transactions included in the block produced at time (t), `d` is a constant and `T/2` is the target block size (The block size that the system aims to achieve **on average**)\n",
    "- The idea behind this upgrade is that the basefee increases when the space occupied by the transactions exceeds the target blocksize thereby making it more expensive for transactions to be included in the next block. Consequently when the space occupied by the transactions is lesser than the target blocksize, it becomes cheaper for transactions to get included in the next block.\n",
    "- The equivalent to the gasprice in the old system is the `min(basefee + tip , maxfee)`\n",
    "- The basefee is burnt (i.e removed out of circulation), since this is now represents the economic value that is catured by the use of the network. This way untruthful bidding is now disincentivized. \n",
    "- The final fees that reaches the miner is: `min(maxfee - basefee , tip)`.\n",
    "\n",
    "\n",
    "#### The objective of eip-1559 are as follows: \n",
    "\n",
    "- Prevention of untruthful bidding\n",
    "- To allow for more flexibility during changing market conditions by aiming for a longterm average target block size (half-full blocks) instead of blocks that are consistently full\n",
    "- Making transaction fees more predictable (But not neccessarily lower)\n",
    "\n",
    "#### Drawbacks of eip-1559:\n",
    "\n",
    "One of the changes that this upgrade introduced to the protocol was that it increased the block size limit by a factor of 2X\n",
    "\n",
    "- The biggest critiques against eip-1559 is that theoretically by doing so, there will be a lot of variance in block size \n",
    "  "
   ]
  },
  {
   "cell_type": "markdown",
   "id": "893a50cd-fe8b-448f-881b-f3c4c03cdc40",
   "metadata": {},
   "source": [
    "### Reference\n",
    "\n",
    "Reijsbergen, D., Sridhar, S., Monnot, B., Leonardos, S., Skoulakis, S., & Piliouras, G. (2021). Transaction Fees on a Honeymoon: Ethereum's EIP-1559 One Month Later. _arXiv preprint arXiv:2110.04753._ [[arXiv link]](https://arxiv.org/pdf/2110.04753.pdf)\n",
    "\n",
    "Leonardos, S., Monnot, B., Reijsbergen, D., Skoulakis, S., & Piliouras, G. (2021). Dynamical Analysis of the EIP-1559 Ethereum Fee Market. _arXiv preprint arXiv:2102.10567._ [[arXiv link]](https://arxiv.org/pdf/2102.10567.pdf)\n",
    "\n",
    "Robust Incentives Group, Ethereum Foundation. abm1559: Agent-based simulation environment for EIP 1559 notebooks. [[Online]](https://ethereum.github.io/abm1559/)"
   ]
  },
  {
   "cell_type": "markdown",
   "id": "863cfb3e-2d21-4bfc-821b-66cd31334268",
   "metadata": {},
   "source": [
    "### Objectives of our simulation model:\n",
    "\n",
    "Since EIP-1559 is a very new proposal and has very recently been implemented, our simulation is more exploratory in nature in order for us to get a better understanding of how different system parameters evolve over time. It is less of an evaluvation but more of design tradeoffs. \n",
    "\n",
    "However, that being said, the system has a target for the long term average block size. Most work that has been done so far aims to assess **theoretically** if this target can be met. We aim to do so emperically through our model. \n",
    "\n",
    "We would also want to get a rough estimate of the economic value that is captured by using the Ethereum blockchain. \n",
    "\n",
    "We thus build two baseline models to:\n",
    "\n",
    "1) Visualize and see how the gas price and other componenets of EIP-1559 transactions (The baseefee, tip and maxfee) evolve in a single simulation run for both systems \n",
    "2) Visualize how the block size varies for both systems in a single simulation run \n",
    "3) Perform output analysis to: \n",
    "    - Analyze and see if the long-term average block size under EIP-1559 meets the required target size \n",
    "    - Get an estimate of the economic value that is captured by the use of the protocol. We do this by looking at the basefee\n",
    "\n",
    "Consequently we will use realtime data extracted from the blockchain and use it as an input to our two models and re-visit the objectives by simulating a more realistic situation "
   ]
  },
  {
   "cell_type": "markdown",
   "id": "efd23a15",
   "metadata": {},
   "source": [
    "### How our simulation works in general with state diagram\n",
    "![image.png](SMA_STATE_DIAGRAM.png)\n",
    "\n",
    "#### In every time step:\n",
    "\n",
    "1) New transactions submitted towards the blockchain, which are class objects (EIP1559 model: `eip1559_transaction`, Legacy model: `legacy_transactions` ), are created via demand functions (EIP1559 model: `demand_functions_eip1559`, Legacy model: `demand_functions_legacy`).\n",
    "2) These transactions are 'sent' to the MEMPOOL, which holds these pending transactions in the `demand_dict` dictionary object within the demand functions\n",
    "3) 'Miners' selects pending transactions within the MEMPOOL to be included the a class object,`block`, through the transaction selection functions (EIP1559 model: `transaction_selection_eip1559`, Legacy model: `transaction_selection_legacy`)\n",
    "4) Pending transactions within each block is 'processed' by miner under the transaction selection functions and processed block is 'broadcasted to network' via the updating of global variables within the `initial_state` variable to be used in the next timestep via the functions `update_basefee` and `record_latest_block` (EIP1559 model: both functions, Legacy model: only `record_latest_block`)\n",
    "5) Repeat steps above for next time step.\n",
    "\n",
    "P.S. Classes, objects, variables and functions mentioned here are discussed below under the code"
   ]
  },
  {
   "cell_type": "markdown",
   "id": "692cf817-688c-446c-8f0d-82c617f9712c",
   "metadata": {},
   "source": [
    "### Housekeeping"
   ]
  },
  {
   "cell_type": "markdown",
   "id": "e3ab7b49-7d5d-494f-b9fb-28640fe3d285",
   "metadata": {},
   "source": [
    "We first import all the necessary modules required to make the simulation run"
   ]
  },
  {
   "cell_type": "code",
   "execution_count": null,
   "id": "525b6f08-0041-4644-9194-736a0f9ac037",
   "metadata": {},
   "outputs": [],
   "source": [
    "!pip install -r requirements.txt\n",
    "!pip install matplotlib"
   ]
  },
  {
   "cell_type": "code",
   "execution_count": 2,
   "id": "b3853534-2b3d-4208-b1be-bcfaa3691d0d",
   "metadata": {},
   "outputs": [],
   "source": [
    "# from functions import *\n",
    "import random\n",
    "import secrets\n",
    "import pandas as pd\n",
    "import numpy as np\n",
    "from radcad import Model, Simulation, Experiment\n",
    "from radcad.engine import Engine, Backend\n",
    "from matplotlib.patches import Rectangle\n",
    "import matplotlib.pyplot as plt\n",
    "import matplotlib.colors as mcolors"
   ]
  },
  {
   "cell_type": "markdown",
   "id": "49b5db5e-6be9-476e-8325-78f9709ee194",
   "metadata": {},
   "source": [
    "### Constants\n",
    "\n",
    "We first define all the constants in our model and store them in a dictionary. These are parameters that are intrinsic to the system and cannot be changed. \n",
    "\n",
    "#### For the new system they are:\n",
    "\n",
    "- The `TARGET_SIZE` which is the target size that the system aims to achieve on average \n",
    "- The `MAX_BLOCK_SIZE` that is the maximum size that each block can be according to the new system\n",
    "- The `BASEFEE_MAX_CHANGE_DENOMINATOR` which captures the constant `d` in the base fee update rule we previously mentioned above under basefee calculation\n",
    "\n",
    "For the old system they are:\n",
    "\n",
    "- The `MAX_BLOCK_SIZE` that is the maximum size that each block can be according to the old system\n",
    "\n",
    "We have also defined some constants which we can change in our simulation model. They are:\n",
    "\n",
    "- The `mempool_length` which is the size limit of the queue that holds all transactions \n",
    "- The `INITIAL_BASEFEE` which is the initial value to which the baseefee is instantiated "
   ]
  },
  {
   "cell_type": "code",
   "execution_count": 16,
   "id": "a5e24d1c-f2b6-429e-a212-d57e9e8198f4",
   "metadata": {},
   "outputs": [],
   "source": [
    "## Constants\n",
    "\n",
    "constants_eip1559 = {\n",
    "    \"BASEFEE_MAX_CHANGE_DENOMINATOR\": 8,\n",
    "    \"TARGET_SIZE\": 12500000,\n",
    "    \"MAX_BLOCK_SIZE\": 25000000\n",
    "}\n",
    "\n",
    "constants_legacy = {\n",
    "    \"MAX_BLOCK_SIZE\": 12500000,\n",
    "}\n",
    "\n",
    "levers = {\n",
    "    \"mempool_length\": 1500\n",
    "}"
   ]
  },
  {
   "cell_type": "markdown",
   "id": "2d55a895-3073-402c-8cac-c071281a9ad9",
   "metadata": {},
   "source": [
    "### Classes\n",
    "\n",
    "We move on to define 3 classes:\n",
    "\n",
    "`eip1559_transaction`:\n",
    "\n",
    "- In the new system each transaction has 4 components: The `total_gas_used` which is the total space the transaction occupies, the `fee_cap`: the maxfee, the `premium`: the tip and the `transaction_hash` which is the identity for the transaction (it also involves some complex cryptography magic)\n",
    "\n",
    "`legacy_transaction`:\n",
    "\n",
    "- In the old system we just have the: `total_gas_used`, the `transaction_hash` and the `fee` which is the gas price\n",
    "\n",
    "`block`:\n",
    "\n",
    "- Simply the block containing the transactions `transactions` which is of a fixed size `size`\n",
    "- We also store the average gas price of all the transactions in the block in `avg_gas_price`"
   ]
  },
  {
   "cell_type": "code",
   "execution_count": 17,
   "id": "6e218470-8062-4569-ba7b-76a1e5eb3fe8",
   "metadata": {},
   "outputs": [],
   "source": [
    "## Classes\n",
    "\n",
    "class eip1559_transaction:\n",
    "    def __init__(self,total_gas,fee_cap,premium):\n",
    "        \n",
    "        # Inherent txn propoerties \n",
    "        self.total_gas_used = total_gas\n",
    "        self.transaction_hash = secrets.token_bytes(8)\n",
    "        \n",
    "        # User adjusted txn properties\n",
    "        self.fee_cap = fee_cap\n",
    "        self.premium = premium\n",
    "        \n",
    "class legacy_transaction:\n",
    "    def __init__(self,total_gas,fee):\n",
    "        \n",
    "        # Inherent txn properties\n",
    "        self.total_gas_used = total_gas\n",
    "        self.transaction_hash = secrets.token_bytes(8)\n",
    "        \n",
    "        # User adjusted txn properties \n",
    "        self.fee = fee\n",
    "        \n",
    "class block:\n",
    "    def __init__(self,size,transactions, avg_gas_price):\n",
    "        self.size = size\n",
    "        self.transactions = transactions \n",
    "        self.avg_gas_price = avg_gas_price"
   ]
  },
  {
   "cell_type": "markdown",
   "id": "ecd02e39-f160-4714-94f7-ec1cb1c88d4c",
   "metadata": {},
   "source": [
    "### Functions\n",
    "\n",
    "`demand_functions_eip1559` and `demand_functions_legacy`:\n",
    "\n",
    "We have defined the functions for demand for each of the systems. For now we assume that:\n",
    "\n",
    "- The transactions which are submitted are of a random size between: 2000 and 3000 \n",
    "- The `gasprice` in the case of legacy and `fee_cap` in the case of EIP1559 ascociated with the transactions are also random in the range ($1*10^{9}$ to $11*10^{9}$) \n",
    "- The `premium` in the case of EIP1559 is a random variable too, in the range of ($0*10^{9}$ to $2*10^{9}$)\n",
    "    - These are based on the most commonly seen ranges in practice \n",
    "- Transactions do not have a limit on how long it can stay in the mempool. The first step is to therefore take the previous demand and remove all transactions that have been included in the previous block from it.\n",
    "- The next step is to carry over the resultant demand and add any new transactions to it. \n",
    "    \n",
    "`transaction_selection_eip1559` and `transaction_selection_legacy`:\n",
    "\n",
    "We have defined the functions for how the miners select which transactions get included in the next block. We simulate the most common strategy: Fill the block to the brim and make as much profit as possible\n",
    "\n",
    "The steps are something like this:\n",
    "\n",
    "- Process each transaction and sort them by the (gas price/space they occupy). \n",
    "- Given the space taken up by each of these transactions, select as many as possible keeping in mind the `MAX_BLOCK_SIZE`\n",
    "- Pack everything up in a block and propogate that to the rest of the network \n",
    "\n",
    "This is very similar to a knapsack problem. The only difference between the two systems is that the gas prices are different: `min(fee_cap - basefee , premium)` vs just the `fee`\n",
    "\n",
    "`update_basefee`:\n",
    "\n",
    "- This is a function that updates the basefee for the next timestep given the basefee from the previous timestep, the constant parameter `BASEFEE_MAX_CHANGE_DENOMINATOR` and the `TARGET_SIZE`\n",
    "            \n",
    "`record_latest_block`:\n",
    "\n",
    "- This is a function that all agents in the network uses to record the latest block that has been produced\n"
   ]
  },
  {
   "cell_type": "code",
   "execution_count": 9,
   "id": "ee95aaaa-562c-443a-b14c-abcfad725471",
   "metadata": {},
   "outputs": [],
   "source": [
    "## Using common random variables \n",
    "\n",
    "rand = []\n",
    "rand_lst = []\n",
    "\n",
    "for i in range(1000000):\n",
    "    a = random.randint(0,2)\n",
    "    b = a + random.randint(1,9)\n",
    "    c = random.randint(20000,30000)\n",
    "    \n",
    "    rand.append((a,b))\n",
    "    rand_lst.append(c)"
   ]
  },
  {
   "cell_type": "code",
   "execution_count": 28,
   "id": "2d2f2e9d-dc88-4efb-acae-3e86d970fe16",
   "metadata": {},
   "outputs": [],
   "source": [
    "## Functions \n",
    "\n",
    "def demand_functions_eip1559(params, substep, state_history, previous_state, policy_input):\n",
    "    \n",
    "    number_of_transactions_in_mempool = levers['mempool_length']\n",
    "    \n",
    "    demand_dict = previous_state['demand']\n",
    "    previous_block = previous_state[\"latest_block\"]\n",
    "    \n",
    "    n_row = previous_state['n_row']\n",
    "    \n",
    "    if len(previous_block.transactions) > 0:\n",
    "        for tx in previous_block.transactions:\n",
    "            demand_dict.pop(tx.transaction_hash)\n",
    "    \n",
    "#     a = random.randint(0,2)\n",
    "#     b = a + random.randint(1,9)\n",
    "    \n",
    "    for i in range(n_row, n_row + number_of_transactions_in_mempool):\n",
    "        \n",
    "        temp = rand[i]\n",
    "        \n",
    "        a = temp[0]\n",
    "        b = temp[1]\n",
    "        \n",
    "        tx = eip1559_transaction(\n",
    "            total_gas = rand_lst[i],\n",
    "            premium = a*(10**9),\n",
    "            fee_cap = b *(10**9)\n",
    "        )\n",
    "        demand_dict[tx.transaction_hash] = tx\n",
    "        \n",
    "        print(\"New transaction {}, submitted into the mempool\".format(tx.transaction_hash))\n",
    "    \n",
    "    return (\"demand\", demand_dict)\n",
    "\n",
    "def demand_functions_legacy(params, substep, state_history, previous_state, policy_input):\n",
    "    \n",
    "    number_of_transactions_in_mempool = levers['mempool_length']\n",
    "    \n",
    "    demand_dict = previous_state['demand']\n",
    "    previous_block = previous_state[\"latest_block\"]\n",
    "    \n",
    "    n_row = previous_state['n_row']\n",
    "    \n",
    "    for tx in previous_block.transactions:\n",
    "        demand_dict.pop(tx.transaction_hash)\n",
    "    \n",
    "    #a = random.randint(1,3)\n",
    "    \n",
    "    for i in range(n_row, n_row + number_of_transactions_in_mempool):\n",
    "        \n",
    "        temp = rand[i]\n",
    "        \n",
    "        b = temp[1]\n",
    "        \n",
    "        tx = legacy_transaction(\n",
    "            total_gas = rand_lst[i],\n",
    "            #premium = a*(10**9),\n",
    "            fee = b * (10 ** 9)\n",
    "        )\n",
    "        demand_dict[tx.transaction_hash] = tx\n",
    "        \n",
    "        print(\"New transaction {}, submitted into the mempool\".format(tx.transaction_hash))\n",
    "    \n",
    "    return (\"demand\", demand_dict)\n",
    "\n",
    "\n",
    "def transaction_selection_eip1559(params, substep, state_history, previous_state):\n",
    "    \n",
    "    demand_dict = previous_state[\"demand\"] #simulates the MEMPOOL which is also the demand_dict returned at demand_function_eip\n",
    "    basefee = previous_state[\"basefee\"]\n",
    "    \n",
    "    size = constants_eip1559[\"MAX_BLOCK_SIZE\"]\n",
    "    final_fee_transactions = {}\n",
    "    final_gas_prices = {}\n",
    "    \n",
    "    for i in demand_dict.keys():\n",
    "        if basefee > demand_dict[i].fee_cap:\n",
    "            continue\n",
    "        else:\n",
    "            final_fee_transactions[i] = (min(demand_dict[i].fee_cap - basefee, demand_dict[i].premium))/demand_dict[i].total_gas_used\n",
    "            final_gas_prices[i] = min(basefee + demand_dict[i].premium, demand_dict[i].fee_cap)\n",
    "            \n",
    "    final_fee_transactions = dict(sorted(final_fee_transactions.items(), key=lambda x: x[1], reverse=True))\n",
    "    \n",
    "    included_transactions = []\n",
    "    total_size_used = 0\n",
    "    gas_fee_total = []\n",
    "    \n",
    "    for i in final_fee_transactions.keys():\n",
    "        \n",
    "        if total_size_used < size:\n",
    "            included_transactions += [demand_dict[i]]\n",
    "            total_size_used += demand_dict[i].total_gas_used\n",
    "            gas_fee_total.append(final_gas_prices[i])\n",
    "        \n",
    "    print(\"{} Number of transactions being included in the next block\".format(len(included_transactions)))\n",
    "    \n",
    "    if(len(gas_fee_total) == 0):\n",
    "        avg_gas_price = 0\n",
    "    else:\n",
    "        avg_gas_price = sum(gas_fee_total)/len(gas_fee_total)\n",
    "        \n",
    "    return { \"block\": block(size = total_size_used, transactions = included_transactions, avg_gas_price = avg_gas_price)}\n",
    "        \n",
    "def transaction_selection_legacy(params, substep, state_history, previous_state):\n",
    "    \n",
    "    demand_dict = previous_state[\"demand\"] #simulates the MEMPOOL which is also the demand_dict returned at demand_function_legacy\n",
    "    \n",
    "    size = constants_legacy[\"MAX_BLOCK_SIZE\"]\n",
    "    final_fee_transactions = {}\n",
    "    \n",
    "    for i in demand_dict.keys():\n",
    "            final_fee_transactions[i] =  (demand_dict[i].fee/demand_dict[i].total_gas_used)    \n",
    "            \n",
    "    final_fee_transactions = dict(sorted(final_fee_transactions.items(), key=lambda x: x[1], reverse=True))\n",
    "    \n",
    "    included_transactions = []\n",
    "    total_size_used = 0\n",
    "    gas_fee_total = []                     \n",
    "    \n",
    "    for i in final_fee_transactions.keys():\n",
    "        \n",
    "        if total_size_used < size:\n",
    "            included_transactions += [demand_dict[i]]\n",
    "            total_size_used += demand_dict[i].total_gas_used\n",
    "            gas_fee_total.append(demand_dict[i].fee)\n",
    "          \n",
    "    print(\"{} Number of transactions being included in the next block\".format(len(included_transactions)))\n",
    "        \n",
    "    return { \"block\": block(size = total_size_used, transactions = included_transactions, avg_gas_price = sum(gas_fee_total)/len(gas_fee_total)) }\n",
    "        \n",
    "def update_basefee(params, substep, state_history, previous_state, policy_input):\n",
    "    \n",
    "    gas_used = sum([i.total_gas_used for i in policy_input[\"block\"].transactions])\n",
    "    basefee = previous_state[\"basefee\"]\n",
    "    \n",
    "    basefee = basefee + basefee * (gas_used - constants_eip1559[\"TARGET_SIZE\"]) // constants_eip1559[\"TARGET_SIZE\"] // constants_eip1559[\"BASEFEE_MAX_CHANGE_DENOMINATOR\"]\n",
    "    \n",
    "    print(\"The new basefee is: {}\".format(basefee))\n",
    "          \n",
    "    return (\"basefee\", basefee)\n",
    "\n",
    "\n",
    "def record_latest_block(params, substep, state_history, previous_state, policy_input):\n",
    "    \n",
    "    block = policy_input[\"block\"]\n",
    "          \n",
    "    print(\"New block recorded\")\n",
    "    \n",
    "    return (\"latest_block\", block)\n",
    "\n",
    "def update_nrow(params, substep, state_history, previous_state, policy_input):\n",
    "    \n",
    "    n_row = previous_state[\"n_row\"]\n",
    "    n_row += levers['mempool_length'] \n",
    "        \n",
    "    return (\"n_row\", n_row)\n"
   ]
  },
  {
   "cell_type": "markdown",
   "id": "310f808a-5848-4b79-9c75-cae2b0c0bdcb",
   "metadata": {},
   "source": [
    "## Basic Models"
   ]
  },
  {
   "cell_type": "markdown",
   "id": "a4ea25ef-4a6e-45b7-87ba-b1833ee3a320",
   "metadata": {},
   "source": [
    "It usually takes 12 seconds for a single block to be produced on Ethereum. We want to simulate an instance of 1 hour, thus we simulate 300 timesteps \n",
    "\n",
    "We now run the simulation for 300 blocks. The way radCAD (the simulation library we use) works is something like this:\n",
    "\n",
    "- There are certain global variables which can be accessed by all agents. In our case we have 3 such global variables: `demand`, `latest_block` and `n_row`\n",
    "- We also have 2 policy variables - `block` and `basefee` \n",
    "- The steps of the simulation are executed in the order defined by `psub`\n",
    "- In each step of the simulation we have 2 factors to take into consider, the `policy` and the `variable`\n",
    "- The `policy` defines the particular action that is taken by the agent\n",
    "- The `policy` always outputs a policy variable, which is fed as an input to the ascociated `action`\n",
    "- The `variable` function performs some sort of computation based on the input policy variable and it outputs a gloabl variable that is recorded by every agent \n",
    "- We also initialse the global variables in `initial_state`\n",
    "- We can define the number of timesteps for our simulation. Here we keep it as 300 which is equivalent to the number of block creations we want to simulate\n",
    "- Once we set up the simulation and run the experiment, we can collect the experiment results output into a dataframe "
   ]
  },
  {
   "cell_type": "markdown",
   "id": "462eae2c-79bb-4f59-bc87-0b86da3ad45d",
   "metadata": {},
   "source": [
    "### Legacy"
   ]
  },
  {
   "cell_type": "code",
   "execution_count": 29,
   "id": "10ae7cab-c515-4f5a-a7ba-bf590fcc5193",
   "metadata": {},
   "outputs": [],
   "source": [
    "psub = [{\n",
    "    \"policies\": {},\n",
    "    \"variables\": {\n",
    "        \"demand\": demand_functions_legacy # step 1\n",
    "    }\n",
    "}, {\n",
    "    \"policies\": {\n",
    "        \"action\": transaction_selection_legacy # step 2\n",
    "    },\n",
    "    \"variables\": {\n",
    "        \"latest_block\": record_latest_block, # step 3\n",
    "        \"n_row\": update_nrow\n",
    "    }\n",
    "}]\n",
    "\n",
    "initial_state = {\n",
    "    \"demand\": {},\n",
    "    \"latest_block\": block(size = 0, transactions=[], avg_gas_price = 0),\n",
    "    \"n_row\": 0\n",
    "}\n",
    "\n",
    "blocks = 300\n",
    "\n",
    "model = Model(\n",
    "    initial_state=initial_state,\n",
    "    state_update_blocks=psub,\n",
    ")\n",
    "simulation = Simulation(model=model, timesteps=blocks, runs=1)\n",
    "experiment = Experiment([simulation])\n",
    "experiment.engine = Engine(deepcopy=False, drop_substeps=True)\n",
    "result = experiment.run()\n",
    "df1 = pd.DataFrame(result) #experimental result"
   ]
  },
  {
   "cell_type": "markdown",
   "id": "446a52cc-7ccb-44c4-bbf7-bc6f450c1b9c",
   "metadata": {},
   "source": [
    "### EIP1559"
   ]
  },
  {
   "cell_type": "code",
   "execution_count": 22,
   "id": "6c94580c-2a61-4b4a-b25f-98bb4097f76d",
   "metadata": {},
   "outputs": [],
   "source": [
    "psub = [{\n",
    "    \"policies\": {},\n",
    "    \"variables\": {\n",
    "        \"demand\": demand_functions_eip1559 # step 1\n",
    "    }\n",
    "}, {\n",
    "    \"policies\": {\n",
    "        \"action\": transaction_selection_eip1559 # step 2\n",
    "    },\n",
    "    \"variables\": {\n",
    "        \"basefee\": update_basefee, # step 3\n",
    "        \"latest_block\": record_latest_block, # step 3 too\n",
    "        \"n_row\": update_nrow\n",
    "    }\n",
    "}]\n",
    "\n",
    "initial_state = {\n",
    "    \"demand\": {},\n",
    "    \"latest_block\": block(size = 0, transactions=[], avg_gas_price = 0),\n",
    "    \"basefee\": 10 * (10 ** 9),\n",
    "    \"n_row\": 0\n",
    "}\n",
    "\n",
    "blocks = 300\n",
    "\n",
    "model = Model(\n",
    "    initial_state=initial_state,\n",
    "    state_update_blocks=psub,\n",
    ")\n",
    "simulation = Simulation(model=model, timesteps=blocks, runs=1)\n",
    "experiment = Experiment([simulation])\n",
    "experiment.engine = Engine(deepcopy=False, drop_substeps=True)\n",
    "result = experiment.run()\n",
    "df2 = pd.DataFrame(result) #experimental result"
   ]
  },
  {
   "cell_type": "markdown",
   "id": "7565a115",
   "metadata": {},
   "source": [
    "### Pre-Processing of dataframe results"
   ]
  },
  {
   "cell_type": "code",
   "execution_count": 31,
   "id": "43976d04-3cd2-4daf-93f1-84210d9b47b4",
   "metadata": {},
   "outputs": [],
   "source": [
    "df1[\"txs_per_block\"] = df1.latest_block.apply(\n",
    "    lambda block: len(block.transactions)\n",
    ")\n",
    "df1['block_size'] = df1.latest_block.apply(\n",
    "    lambda block: block.size\n",
    ")\n",
    "df1['avg_gas_price'] = df1.latest_block.apply(\n",
    "    lambda block: block.avg_gas_price\n",
    ")\n",
    "\n",
    "\n",
    "\n",
    "df2[\"txs_per_block\"] = df2.latest_block.apply(\n",
    "    lambda block: len(block.transactions)\n",
    ")\n",
    "df2['block_size'] = df2.latest_block.apply(\n",
    "    lambda block: block.size\n",
    ")\n",
    "df2['avg_gas_price'] = df2.latest_block.apply(\n",
    "    lambda block: block.avg_gas_price\n",
    ")\n",
    "\n",
    "N = 5\n",
    "# Drop first N columns of dataframe\n",
    "df_legacy = df1.iloc[: , N:]\n",
    "df_eip1559 = df2.iloc[: , N:]\n",
    "df_eip1559['basefee'] = df2['basefee']\n",
    "\n",
    "df_legacy['gas_price_diff'] = df_legacy['avg_gas_price'].diff().abs()\n",
    "df_eip1559['gas_price_diff'] = df_eip1559['avg_gas_price'].diff().abs()"
   ]
  },
  {
   "cell_type": "markdown",
   "id": "b3d05621-0a17-41bc-bd9d-1ad99d67b443",
   "metadata": {},
   "source": [
    "### Legacy system results"
   ]
  },
  {
   "cell_type": "code",
   "execution_count": 32,
   "id": "1168c2f2-11b1-4420-b0e2-c894d4abd7ed",
   "metadata": {},
   "outputs": [
    {
     "data": {
      "text/html": [
       "<div>\n",
       "<style scoped>\n",
       "    .dataframe tbody tr th:only-of-type {\n",
       "        vertical-align: middle;\n",
       "    }\n",
       "\n",
       "    .dataframe tbody tr th {\n",
       "        vertical-align: top;\n",
       "    }\n",
       "\n",
       "    .dataframe thead th {\n",
       "        text-align: right;\n",
       "    }\n",
       "</style>\n",
       "<table border=\"1\" class=\"dataframe\">\n",
       "  <thead>\n",
       "    <tr style=\"text-align: right;\">\n",
       "      <th></th>\n",
       "      <th>run</th>\n",
       "      <th>substep</th>\n",
       "      <th>timestep</th>\n",
       "      <th>txs_per_block</th>\n",
       "      <th>block_size</th>\n",
       "      <th>avg_gas_price</th>\n",
       "      <th>gas_price_diff</th>\n",
       "    </tr>\n",
       "  </thead>\n",
       "  <tbody>\n",
       "    <tr>\n",
       "      <th>0</th>\n",
       "      <td>1</td>\n",
       "      <td>0</td>\n",
       "      <td>0</td>\n",
       "      <td>0</td>\n",
       "      <td>0</td>\n",
       "      <td>0.000000e+00</td>\n",
       "      <td>NaN</td>\n",
       "    </tr>\n",
       "    <tr>\n",
       "      <th>1</th>\n",
       "      <td>1</td>\n",
       "      <td>2</td>\n",
       "      <td>1</td>\n",
       "      <td>519</td>\n",
       "      <td>12514124</td>\n",
       "      <td>8.816956e+09</td>\n",
       "      <td>8.816956e+09</td>\n",
       "    </tr>\n",
       "    <tr>\n",
       "      <th>2</th>\n",
       "      <td>1</td>\n",
       "      <td>2</td>\n",
       "      <td>2</td>\n",
       "      <td>514</td>\n",
       "      <td>12524358</td>\n",
       "      <td>8.908560e+09</td>\n",
       "      <td>9.160463e+07</td>\n",
       "    </tr>\n",
       "    <tr>\n",
       "      <th>3</th>\n",
       "      <td>1</td>\n",
       "      <td>2</td>\n",
       "      <td>3</td>\n",
       "      <td>514</td>\n",
       "      <td>12520216</td>\n",
       "      <td>8.978599e+09</td>\n",
       "      <td>7.003891e+07</td>\n",
       "    </tr>\n",
       "    <tr>\n",
       "      <th>4</th>\n",
       "      <td>1</td>\n",
       "      <td>2</td>\n",
       "      <td>4</td>\n",
       "      <td>515</td>\n",
       "      <td>12520336</td>\n",
       "      <td>8.899029e+09</td>\n",
       "      <td>7.957010e+07</td>\n",
       "    </tr>\n",
       "    <tr>\n",
       "      <th>...</th>\n",
       "      <td>...</td>\n",
       "      <td>...</td>\n",
       "      <td>...</td>\n",
       "      <td>...</td>\n",
       "      <td>...</td>\n",
       "      <td>...</td>\n",
       "      <td>...</td>\n",
       "    </tr>\n",
       "    <tr>\n",
       "      <th>296</th>\n",
       "      <td>1</td>\n",
       "      <td>2</td>\n",
       "      <td>296</td>\n",
       "      <td>515</td>\n",
       "      <td>12527263</td>\n",
       "      <td>8.970874e+09</td>\n",
       "      <td>1.541262e+08</td>\n",
       "    </tr>\n",
       "    <tr>\n",
       "      <th>297</th>\n",
       "      <td>1</td>\n",
       "      <td>2</td>\n",
       "      <td>297</td>\n",
       "      <td>513</td>\n",
       "      <td>12520357</td>\n",
       "      <td>8.984405e+09</td>\n",
       "      <td>1.353167e+07</td>\n",
       "    </tr>\n",
       "    <tr>\n",
       "      <th>298</th>\n",
       "      <td>1</td>\n",
       "      <td>2</td>\n",
       "      <td>298</td>\n",
       "      <td>515</td>\n",
       "      <td>12526005</td>\n",
       "      <td>8.869903e+09</td>\n",
       "      <td>1.145025e+08</td>\n",
       "    </tr>\n",
       "    <tr>\n",
       "      <th>299</th>\n",
       "      <td>1</td>\n",
       "      <td>2</td>\n",
       "      <td>299</td>\n",
       "      <td>513</td>\n",
       "      <td>12505181</td>\n",
       "      <td>8.970760e+09</td>\n",
       "      <td>1.008573e+08</td>\n",
       "    </tr>\n",
       "    <tr>\n",
       "      <th>300</th>\n",
       "      <td>1</td>\n",
       "      <td>2</td>\n",
       "      <td>300</td>\n",
       "      <td>510</td>\n",
       "      <td>12521788</td>\n",
       "      <td>8.943137e+09</td>\n",
       "      <td>2.762298e+07</td>\n",
       "    </tr>\n",
       "  </tbody>\n",
       "</table>\n",
       "<p>301 rows × 7 columns</p>\n",
       "</div>"
      ],
      "text/plain": [
       "     run  substep  timestep  txs_per_block  block_size  avg_gas_price  \\\n",
       "0      1        0         0              0           0   0.000000e+00   \n",
       "1      1        2         1            519    12514124   8.816956e+09   \n",
       "2      1        2         2            514    12524358   8.908560e+09   \n",
       "3      1        2         3            514    12520216   8.978599e+09   \n",
       "4      1        2         4            515    12520336   8.899029e+09   \n",
       "..   ...      ...       ...            ...         ...            ...   \n",
       "296    1        2       296            515    12527263   8.970874e+09   \n",
       "297    1        2       297            513    12520357   8.984405e+09   \n",
       "298    1        2       298            515    12526005   8.869903e+09   \n",
       "299    1        2       299            513    12505181   8.970760e+09   \n",
       "300    1        2       300            510    12521788   8.943137e+09   \n",
       "\n",
       "     gas_price_diff  \n",
       "0               NaN  \n",
       "1      8.816956e+09  \n",
       "2      9.160463e+07  \n",
       "3      7.003891e+07  \n",
       "4      7.957010e+07  \n",
       "..              ...  \n",
       "296    1.541262e+08  \n",
       "297    1.353167e+07  \n",
       "298    1.145025e+08  \n",
       "299    1.008573e+08  \n",
       "300    2.762298e+07  \n",
       "\n",
       "[301 rows x 7 columns]"
      ]
     },
     "execution_count": 32,
     "metadata": {},
     "output_type": "execute_result"
    }
   ],
   "source": [
    "df_legacy"
   ]
  },
  {
   "cell_type": "markdown",
   "id": "4364eb15-2895-4deb-ba9e-aec323ddbe37",
   "metadata": {},
   "source": [
    "### EIP-1559 results"
   ]
  },
  {
   "cell_type": "code",
   "execution_count": 25,
   "id": "8a1cc013-ad0d-4905-ae1d-08405337908e",
   "metadata": {},
   "outputs": [
    {
     "data": {
      "text/html": [
       "<div>\n",
       "<style scoped>\n",
       "    .dataframe tbody tr th:only-of-type {\n",
       "        vertical-align: middle;\n",
       "    }\n",
       "\n",
       "    .dataframe tbody tr th {\n",
       "        vertical-align: top;\n",
       "    }\n",
       "\n",
       "    .dataframe thead th {\n",
       "        text-align: right;\n",
       "    }\n",
       "</style>\n",
       "<table border=\"1\" class=\"dataframe\">\n",
       "  <thead>\n",
       "    <tr style=\"text-align: right;\">\n",
       "      <th></th>\n",
       "      <th>subset</th>\n",
       "      <th>run</th>\n",
       "      <th>substep</th>\n",
       "      <th>timestep</th>\n",
       "      <th>txs_per_block</th>\n",
       "      <th>block_size</th>\n",
       "      <th>avg_gas_price</th>\n",
       "      <th>basefee</th>\n",
       "      <th>gas_price_diff</th>\n",
       "    </tr>\n",
       "  </thead>\n",
       "  <tbody>\n",
       "    <tr>\n",
       "      <th>0</th>\n",
       "      <td>0</td>\n",
       "      <td>1</td>\n",
       "      <td>0</td>\n",
       "      <td>0</td>\n",
       "      <td>0</td>\n",
       "      <td>0</td>\n",
       "      <td>0.000000e+00</td>\n",
       "      <td>10000000000</td>\n",
       "      <td>NaN</td>\n",
       "    </tr>\n",
       "    <tr>\n",
       "      <th>1</th>\n",
       "      <td>0</td>\n",
       "      <td>1</td>\n",
       "      <td>2</td>\n",
       "      <td>1</td>\n",
       "      <td>153</td>\n",
       "      <td>3773155</td>\n",
       "      <td>1.031373e+10</td>\n",
       "      <td>9127315500</td>\n",
       "      <td>1.031373e+10</td>\n",
       "    </tr>\n",
       "    <tr>\n",
       "      <th>2</th>\n",
       "      <td>0</td>\n",
       "      <td>1</td>\n",
       "      <td>2</td>\n",
       "      <td>2</td>\n",
       "      <td>171</td>\n",
       "      <td>4296531</td>\n",
       "      <td>1.028070e+10</td>\n",
       "      <td>8378559002</td>\n",
       "      <td>3.302374e+07</td>\n",
       "    </tr>\n",
       "    <tr>\n",
       "      <th>3</th>\n",
       "      <td>0</td>\n",
       "      <td>1</td>\n",
       "      <td>2</td>\n",
       "      <td>3</td>\n",
       "      <td>637</td>\n",
       "      <td>16001632</td>\n",
       "      <td>9.116119e+09</td>\n",
       "      <td>8671945305</td>\n",
       "      <td>1.164582e+09</td>\n",
       "    </tr>\n",
       "    <tr>\n",
       "      <th>4</th>\n",
       "      <td>0</td>\n",
       "      <td>1</td>\n",
       "      <td>2</td>\n",
       "      <td>4</td>\n",
       "      <td>322</td>\n",
       "      <td>8113705</td>\n",
       "      <td>9.506829e+09</td>\n",
       "      <td>8291568201</td>\n",
       "      <td>3.907099e+08</td>\n",
       "    </tr>\n",
       "    <tr>\n",
       "      <th>...</th>\n",
       "      <td>...</td>\n",
       "      <td>...</td>\n",
       "      <td>...</td>\n",
       "      <td>...</td>\n",
       "      <td>...</td>\n",
       "      <td>...</td>\n",
       "      <td>...</td>\n",
       "      <td>...</td>\n",
       "      <td>...</td>\n",
       "    </tr>\n",
       "    <tr>\n",
       "      <th>296</th>\n",
       "      <td>0</td>\n",
       "      <td>1</td>\n",
       "      <td>2</td>\n",
       "      <td>296</td>\n",
       "      <td>516</td>\n",
       "      <td>12928067</td>\n",
       "      <td>8.581243e+09</td>\n",
       "      <td>7826736954</td>\n",
       "      <td>5.224519e+07</td>\n",
       "    </tr>\n",
       "    <tr>\n",
       "      <th>297</th>\n",
       "      <td>0</td>\n",
       "      <td>1</td>\n",
       "      <td>2</td>\n",
       "      <td>297</td>\n",
       "      <td>490</td>\n",
       "      <td>12262296</td>\n",
       "      <td>8.660591e+09</td>\n",
       "      <td>7808132487</td>\n",
       "      <td>7.934787e+07</td>\n",
       "    </tr>\n",
       "    <tr>\n",
       "      <th>298</th>\n",
       "      <td>0</td>\n",
       "      <td>1</td>\n",
       "      <td>2</td>\n",
       "      <td>298</td>\n",
       "      <td>476</td>\n",
       "      <td>11972400</td>\n",
       "      <td>8.701969e+09</td>\n",
       "      <td>7766936779</td>\n",
       "      <td>4.137836e+07</td>\n",
       "    </tr>\n",
       "    <tr>\n",
       "      <th>299</th>\n",
       "      <td>0</td>\n",
       "      <td>1</td>\n",
       "      <td>2</td>\n",
       "      <td>299</td>\n",
       "      <td>499</td>\n",
       "      <td>12519214</td>\n",
       "      <td>8.634048e+09</td>\n",
       "      <td>7768429118</td>\n",
       "      <td>6.792120e+07</td>\n",
       "    </tr>\n",
       "    <tr>\n",
       "      <th>300</th>\n",
       "      <td>0</td>\n",
       "      <td>1</td>\n",
       "      <td>2</td>\n",
       "      <td>300</td>\n",
       "      <td>481</td>\n",
       "      <td>12212510</td>\n",
       "      <td>8.617228e+09</td>\n",
       "      <td>7746095661</td>\n",
       "      <td>1.681952e+07</td>\n",
       "    </tr>\n",
       "  </tbody>\n",
       "</table>\n",
       "<p>301 rows × 9 columns</p>\n",
       "</div>"
      ],
      "text/plain": [
       "     subset  run  substep  timestep  txs_per_block  block_size  avg_gas_price  \\\n",
       "0         0    1        0         0              0           0   0.000000e+00   \n",
       "1         0    1        2         1            153     3773155   1.031373e+10   \n",
       "2         0    1        2         2            171     4296531   1.028070e+10   \n",
       "3         0    1        2         3            637    16001632   9.116119e+09   \n",
       "4         0    1        2         4            322     8113705   9.506829e+09   \n",
       "..      ...  ...      ...       ...            ...         ...            ...   \n",
       "296       0    1        2       296            516    12928067   8.581243e+09   \n",
       "297       0    1        2       297            490    12262296   8.660591e+09   \n",
       "298       0    1        2       298            476    11972400   8.701969e+09   \n",
       "299       0    1        2       299            499    12519214   8.634048e+09   \n",
       "300       0    1        2       300            481    12212510   8.617228e+09   \n",
       "\n",
       "         basefee  gas_price_diff  \n",
       "0    10000000000             NaN  \n",
       "1     9127315500    1.031373e+10  \n",
       "2     8378559002    3.302374e+07  \n",
       "3     8671945305    1.164582e+09  \n",
       "4     8291568201    3.907099e+08  \n",
       "..           ...             ...  \n",
       "296   7826736954    5.224519e+07  \n",
       "297   7808132487    7.934787e+07  \n",
       "298   7766936779    4.137836e+07  \n",
       "299   7768429118    6.792120e+07  \n",
       "300   7746095661    1.681952e+07  \n",
       "\n",
       "[301 rows x 9 columns]"
      ]
     },
     "execution_count": 25,
     "metadata": {},
     "output_type": "execute_result"
    }
   ],
   "source": [
    "df_eip1559"
   ]
  },
  {
   "cell_type": "markdown",
   "id": "490362ef-cd2b-4802-b2f3-627d2d385b4b",
   "metadata": {},
   "source": [
    "## Plots and Vizualisations"
   ]
  },
  {
   "cell_type": "markdown",
   "id": "c1e84b50-f09b-472c-b1f5-1216f304388d",
   "metadata": {},
   "source": [
    "### Gas Prices"
   ]
  },
  {
   "cell_type": "markdown",
   "id": "4a9340d1-e8c5-4b39-8767-9ebc76dfa503",
   "metadata": {},
   "source": [
    "Let us first look at the evolution of the gas price in the **legacy case**"
   ]
  },
  {
   "cell_type": "code",
   "execution_count": 33,
   "id": "5dde0f88-75fd-42cf-8799-414827555854",
   "metadata": {},
   "outputs": [
    {
     "data": {
      "text/plain": [
       "<AxesSubplot:xlabel='timestep'>"
      ]
     },
     "execution_count": 33,
     "metadata": {},
     "output_type": "execute_result"
    },
    {
     "data": {
      "image/png": "[encoded data removed]",
      "text/plain": [
       "<Figure size 432x288 with 1 Axes>"
      ]
     },
     "metadata": {
      "needs_background": "light"
     },
     "output_type": "display_data"
    }
   ],
   "source": [
    "df1[df1.timestep > 1].plot(\"timestep\", \"avg_gas_price\")"
   ]
  },
  {
   "cell_type": "code",
   "execution_count": 37,
   "id": "4a036bdf-e4ca-464a-837b-1d27ea839747",
   "metadata": {},
   "outputs": [
    {
     "data": {
      "text/plain": [
       "{'bodies': [<matplotlib.collections.PolyCollection at 0x1d07797d280>],\n",
       " 'cmaxes': <matplotlib.collections.LineCollection at 0x1d077edb6d0>,\n",
       " 'cmins': <matplotlib.collections.LineCollection at 0x1d07797d7c0>,\n",
       " 'cbars': <matplotlib.collections.LineCollection at 0x1d07797daf0>}"
      ]
     },
     "execution_count": 37,
     "metadata": {},
     "output_type": "execute_result"
    },
    {
     "data": {
      "image/png": "[encoded data removed]",
      "text/plain": [
       "<Figure size 432x288 with 1 Axes>"
      ]
     },
     "metadata": {
      "needs_background": "light"
     },
     "output_type": "display_data"
    }
   ],
   "source": [
    "plt.violinplot(df1['avg_gas_price'], vert = False)"
   ]
  },
  {
   "cell_type": "markdown",
   "id": "7d8e2a48-4213-4cf4-9c74-033d3b7fbeca",
   "metadata": {},
   "source": [
    "We see that for most blocks the average gas-price lies roughly in the range of $8.8*10^{9}$ and $9.5*10^{9}$. It is also clear that there is no congestion control implemented in the system and the entire transaction fee market is entirely dependent and regulated by user bids. "
   ]
  },
  {
   "cell_type": "markdown",
   "id": "885e66a9-64a3-494f-b631-c18ad920b997",
   "metadata": {},
   "source": [
    "Now, taking a look at the gas prices with the new upgrade to **EIP-1559**"
   ]
  },
  {
   "cell_type": "code",
   "execution_count": 38,
   "id": "66940a7c-69d8-4526-b6b2-13bfabf654f9",
   "metadata": {},
   "outputs": [
    {
     "data": {
      "text/plain": [
       "<AxesSubplot:xlabel='timestep'>"
      ]
     },
     "execution_count": 38,
     "metadata": {},
     "output_type": "execute_result"
    },
    {
     "data": {
      "image/png": "[encoded data removed]",
      "text/plain": [
       "<Figure size 432x288 with 1 Axes>"
      ]
     },
     "metadata": {
      "needs_background": "light"
     },
     "output_type": "display_data"
    }
   ],
   "source": [
    "df2[df2.timestep > 1].plot(\"timestep\", \"avg_gas_price\")"
   ]
  },
  {
   "cell_type": "code",
   "execution_count": 39,
   "id": "23991ca5-96fa-4358-8f4b-6c198e86e5e9",
   "metadata": {},
   "outputs": [
    {
     "data": {
      "text/plain": [
       "{'bodies': [<matplotlib.collections.PolyCollection at 0x1d076e80f70>],\n",
       " 'cmaxes': <matplotlib.collections.LineCollection at 0x1d076e80fd0>,\n",
       " 'cmins': <matplotlib.collections.LineCollection at 0x1d076cee460>,\n",
       " 'cbars': <matplotlib.collections.LineCollection at 0x1d076cee790>}"
      ]
     },
     "execution_count": 39,
     "metadata": {},
     "output_type": "execute_result"
    },
    {
     "data": {
      "image/png": "[encoded data removed]",
      "text/plain": [
       "<Figure size 432x288 with 1 Axes>"
      ]
     },
     "metadata": {
      "needs_background": "light"
     },
     "output_type": "display_data"
    }
   ],
   "source": [
    "plt.violinplot(df1['avg_gas_price'], vert = False)"
   ]
  },
  {
   "cell_type": "markdown",
   "id": "04e2caf9-591f-450c-a367-79178c3b44fc",
   "metadata": {},
   "source": [
    "While we see similar ranges for the gas prices with the upgrade, one thing that is very interesting here is that in the initial timesteps we see violent fluctuations in the average gas price till it eventually settles into a more \"steady state\". \n",
    "\n",
    "The violent fluctuation is potentially the result of the congestion control set in place. When there is a high demand and the previous block includes many transactions, the basefee is expected to increase thereby increasing the threshold for transaction inclusion (Since now, the transactions whose max fee is lesser than the basefee cannot be included in the next block)."
   ]
  },
  {
   "cell_type": "markdown",
   "id": "f7973928-7e50-4735-9897-d3851644da38",
   "metadata": {},
   "source": [
    "One drawback of our model is that we could not provide a robust quantification on the predictability of the gas price. Therefore we cannot evaluvate how well this objective of the new proposal is met. We propose to add this to our future work. "
   ]
  },
  {
   "cell_type": "markdown",
   "id": "cefb6f12-11be-4dc0-b270-d7028783a130",
   "metadata": {},
   "source": [
    "### Basefee, Max-fee and Tip"
   ]
  },
  {
   "cell_type": "markdown",
   "id": "577b381f-abc3-4658-8386-88f99773a8be",
   "metadata": {},
   "source": [
    "Let us now see how the basefee behaves and the ranges for the max fee and tip"
   ]
  },
  {
   "cell_type": "code",
   "execution_count": 40,
   "id": "635e92bf-5e97-4dde-a414-382463b18291",
   "metadata": {},
   "outputs": [
    {
     "data": {
      "text/plain": [
       "<AxesSubplot:xlabel='timestep'>"
      ]
     },
     "execution_count": 40,
     "metadata": {},
     "output_type": "execute_result"
    },
    {
     "data": {
      "image/png": "[encoded data removed]",
      "text/plain": [
       "<Figure size 432x288 with 1 Axes>"
      ]
     },
     "metadata": {
      "needs_background": "light"
     },
     "output_type": "display_data"
    }
   ],
   "source": [
    "df2.plot('timestep', ['basefee'])"
   ]
  },
  {
   "cell_type": "markdown",
   "id": "07d0556f-a619-4389-b08b-687bc54f3e1c",
   "metadata": {},
   "source": [
    "We see that the basefee also shows a similar behaviour of fluctuating before settling down to a steady state. Seeing the similarities in the trend with just a difference in the range could suggest that the basefee could be used as a good metric to determine how much a user should pay to get their transaction included on chain. This could potentially mean that, as intended, the gas prices have become more predictable (However our model still does not capture any concrete evidence of this)"
   ]
  },
  {
   "cell_type": "code",
   "execution_count": 41,
   "id": "c6de02b0-7dbb-43cb-8477-963069b70696",
   "metadata": {},
   "outputs": [
    {
     "name": "stderr",
     "output_type": "stream",
     "text": [
      "<ipython-input-41-93ec5dfce26e>:2: DeprecationWarning: The default dtype for empty Series will be 'object' instead of 'float64' in a future version. Specify a dtype explicitly to silence this warning.\n",
      "  lambda block: pd.Series([tx.premium for tx in block.transactions]).mean()\n",
      "<ipython-input-41-93ec5dfce26e>:6: DeprecationWarning: The default dtype for empty Series will be 'object' instead of 'float64' in a future version. Specify a dtype explicitly to silence this warning.\n",
      "  lambda block: pd.Series([tx.fee_cap for tx in block.transactions]).mean()\n"
     ]
    }
   ],
   "source": [
    "df2[\"avg_tip\"] = df2.latest_block.apply(\n",
    "    lambda block: pd.Series([tx.premium for tx in block.transactions]).mean()\n",
    ")\n",
    "\n",
    "df2[\"avg_max_fee\"] = df2.latest_block.apply(\n",
    "    lambda block: pd.Series([tx.fee_cap for tx in block.transactions]).mean()\n",
    ")\n",
    "\n",
    "df2[\"avg_max_fee\"] = df2[\"avg_max_fee\"].fillna(0)\n",
    "df2[\"avg_tip\"] = df2[\"avg_tip\"].fillna(0)"
   ]
  },
  {
   "cell_type": "code",
   "execution_count": 42,
   "id": "f6a9fc40-c2ff-4819-9f62-4542a3f11832",
   "metadata": {},
   "outputs": [
    {
     "data": {
      "text/plain": [
       "<AxesSubplot:>"
      ]
     },
     "execution_count": 42,
     "metadata": {},
     "output_type": "execute_result"
    },
    {
     "data": {
      "image/png": "[encoded data removed]",
      "text/plain": [
       "<Figure size 432x288 with 1 Axes>"
      ]
     },
     "metadata": {
      "needs_background": "light"
     },
     "output_type": "display_data"
    }
   ],
   "source": [
    "df2[\"avg_max_fee\"].hist(bins = 10)"
   ]
  },
  {
   "cell_type": "code",
   "execution_count": 43,
   "id": "22c16b0c-3ef3-4386-add0-eaf23b7328b6",
   "metadata": {},
   "outputs": [
    {
     "data": {
      "text/plain": [
       "<AxesSubplot:>"
      ]
     },
     "execution_count": 43,
     "metadata": {},
     "output_type": "execute_result"
    },
    {
     "data": {
      "image/png": "[encoded data removed]",
      "text/plain": [
       "<Figure size 432x288 with 1 Axes>"
      ]
     },
     "metadata": {
      "needs_background": "light"
     },
     "output_type": "display_data"
    }
   ],
   "source": [
    "df2[\"avg_tip\"].hist(bins = 10)"
   ]
  },
  {
   "cell_type": "markdown",
   "id": "ceb03eee-bca2-4d08-8c22-54c8f60cc646",
   "metadata": {},
   "source": [
    "We notice that the range of the average max fee is similar to that of the average basee fee, which is as expected, and that for the transactions which were included in the blocks, the average tip was mostly between ($1*10^{9}$ to $1.5*10^{9}$)"
   ]
  },
  {
   "cell_type": "markdown",
   "id": "9418c86e-44b6-447f-8efc-d0cae8fd6cf2",
   "metadata": {},
   "source": [
    "### Block sizes"
   ]
  },
  {
   "cell_type": "markdown",
   "id": "a53782c8-02a0-4c73-bf85-90829d808479",
   "metadata": {},
   "source": [
    "As mentioned earlier, one of the biggest critique to the new system is that it is theorized that the block sizes would show a very high variance. We would like to primarily see if this is true especially in comparision to the old system."
   ]
  },
  {
   "cell_type": "markdown",
   "id": "5eef6140-cc50-4b4f-a295-7754d2db4828",
   "metadata": {},
   "source": [
    "Let us start by plotting the block sizes for the legacy case"
   ]
  },
  {
   "cell_type": "code",
   "execution_count": 44,
   "id": "85a9df91-9251-4afe-b621-eadda3456672",
   "metadata": {},
   "outputs": [
    {
     "data": {
      "text/plain": [
       "<AxesSubplot:xlabel='timestep'>"
      ]
     },
     "execution_count": 44,
     "metadata": {},
     "output_type": "execute_result"
    },
    {
     "data": {
      "image/png": "[encoded data removed]",
      "text/plain": [
       "<Figure size 432x288 with 1 Axes>"
      ]
     },
     "metadata": {
      "needs_background": "light"
     },
     "output_type": "display_data"
    }
   ],
   "source": [
    "df1[df1.timestep > 1].plot(\"timestep\", \"block_size\")"
   ]
  },
  {
   "cell_type": "markdown",
   "id": "7cf1f05e-7f4d-426f-a8fc-fcddd96b4793",
   "metadata": {},
   "source": [
    "Now let us see how it looks for the case of EIP 1559"
   ]
  },
  {
   "cell_type": "code",
   "execution_count": 46,
   "id": "f815464f-f333-4f56-9228-1605945c97dd",
   "metadata": {},
   "outputs": [
    {
     "data": {
      "text/plain": [
       "<AxesSubplot:xlabel='timestep'>"
      ]
     },
     "execution_count": 46,
     "metadata": {},
     "output_type": "execute_result"
    },
    {
     "data": {
      "image/png": "[encoded data removed]",
      "text/plain": [
       "<Figure size 432x288 with 1 Axes>"
      ]
     },
     "metadata": {
      "needs_background": "light"
     },
     "output_type": "display_data"
    }
   ],
   "source": [
    "df2[df2.timestep > 1].plot(\"timestep\", \"block_size\")"
   ]
  },
  {
   "cell_type": "markdown",
   "id": "94ae6e83-ac75-4520-8b12-298e73de062f",
   "metadata": {},
   "source": [
    "We clearly see that the block size variance is much higher for the case of EIP-1559. This is infact a red flag, since block size variance, unlike other metrics, can potentially harm the the nodes that are connected to the network since processing larger blocks require higher computational power. Thus, having such fluctuations is not a good sign. If we were to compare just how much larger is the block size variance is in the case of EIP-1559, it would be:"
   ]
  },
  {
   "cell_type": "code",
   "execution_count": 47,
   "id": "f83b1c4e-b359-4ac4-a744-40c6e076ecb5",
   "metadata": {},
   "outputs": [
    {
     "name": "stdout",
     "output_type": "stream",
     "text": [
      "35.538635315373824\n"
     ]
    }
   ],
   "source": [
    "print(df2['block_size'].var()/df1['block_size'].var())"
   ]
  },
  {
   "cell_type": "markdown",
   "id": "74d8161c-7cd6-437b-a992-8e0202c3b27c",
   "metadata": {},
   "source": [
    "## Output Analysis "
   ]
  },
  {
   "cell_type": "markdown",
   "id": "e0ca48da-e570-41a6-ab5d-9cf716c69aa9",
   "metadata": {},
   "source": [
    "### Blocksize"
   ]
  },
  {
   "cell_type": "markdown",
   "id": "3a512525-3578-4826-8527-71cc0525d51b",
   "metadata": {},
   "source": [
    "We now wish to analyze if the long term average block size after EIP-1559 is close to the target. \n",
    "\n",
    "We do so by simulating 5 runs of the EIP-1559 simulation and taking the average for each run. We finally take the average of the means that we obtained from each of the 5 runs.\n",
    "\n",
    "(The reason we simulate very less is due to the computational power required to run many simulation rounds)"
   ]
  },
  {
   "cell_type": "code",
   "execution_count": 57,
   "id": "1db1ef69-1417-4532-b98d-35db3802668e",
   "metadata": {},
   "outputs": [],
   "source": [
    "def simulate_once_eip1559():\n",
    "    \n",
    "    rand = []\n",
    "    rand_lst = []\n",
    "\n",
    "    for i in range(1000000):\n",
    "        a = random.randint(0,2)\n",
    "        b = a + random.randint(1,9)\n",
    "        c = random.randint(20000,30000)\n",
    "    \n",
    "        rand.append((a,b))\n",
    "        rand_lst.append(c)\n",
    "        \n",
    "    psub = [{\n",
    "        \"policies\": {},\n",
    "        \"variables\": {\n",
    "            \"demand\": demand_functions_eip1559 # step 1\n",
    "        }\n",
    "    }, {\n",
    "        \"policies\": {\n",
    "            \"action\": transaction_selection_eip1559 # step 2\n",
    "        },\n",
    "        \"variables\": {\n",
    "            \"basefee\": update_basefee, # step 3\n",
    "            \"latest_block\": record_latest_block ,\n",
    "            \"n_row\": update_nrow\n",
    "        }\n",
    "    }]\n",
    "\n",
    "    initial_state = {\n",
    "        \"demand\": {},\n",
    "        \"latest_block\": block(size = 0, transactions=[], avg_gas_price = 0),\n",
    "        \"basefee\": 10 * (10 ** 9),\n",
    "        \"n_row\":0\n",
    "    }\n",
    "\n",
    "    blocks = 300\n",
    "\n",
    "    model = Model(\n",
    "        initial_state=initial_state,\n",
    "        state_update_blocks=psub,\n",
    "    )\n",
    "    simulation = Simulation(model=model, timesteps=blocks, runs=1)\n",
    "    experiment = Experiment([simulation])\n",
    "    experiment.engine = Engine(deepcopy=False, drop_substeps=True)\n",
    "    result = experiment.run()\n",
    "    df = pd.DataFrame(result)\n",
    "    \n",
    "    df['block_size'] = df.latest_block.apply(\n",
    "    lambda block: block.size)\n",
    "      \n",
    "    return(df['block_size'].mean())\n",
    "    \n",
    "\n",
    "# Collecting the results from 100 simulation runs \n",
    "\n",
    "simulation_run_list = []\n",
    "\n",
    "for i in range(5):\n",
    "    simulation_run_list.append([simulate_once_eip1559()])"
   ]
  },
  {
   "cell_type": "code",
   "execution_count": 58,
   "id": "fc56e498-3251-4362-bda0-f1dc8a1afaa7",
   "metadata": {},
   "outputs": [
    {
     "name": "stdout",
     "output_type": "stream",
     "text": [
      "The target size is 12500000\n",
      "The average of the average block size after 5 runs is 12460185.810631229 \n"
     ]
    }
   ],
   "source": [
    "simulation_run_list = np.array(simulation_run_list)\n",
    "#print(\"The average block sizes for each of the 10 simulations are recorded as {}\".format(simulation_run_list))\n",
    "print(\"The target size is {}\".format(constants_eip1559[\"TARGET_SIZE\"]))\n",
    "print(\"The average of the average block size after 5 runs is {} \".format(simulation_run_list.mean()))"
   ]
  },
  {
   "cell_type": "code",
   "execution_count": 59,
   "id": "af454f4a-0e85-42e8-91b1-8add7c9b6464",
   "metadata": {},
   "outputs": [
    {
     "name": "stdout",
     "output_type": "stream",
     "text": [
      "The difference form the target size is 39814.18936877139 \n",
      "The percentage by which it is off from the target size is 0.3185135149501711 \n"
     ]
    }
   ],
   "source": [
    "diff = abs((simulation_run_list.mean() - constants_eip1559[\"TARGET_SIZE\"]))\n",
    "per_diff = (diff/constants_eip1559[\"TARGET_SIZE\"])*100\n",
    "\n",
    "print(\"The difference form the target size is {} \".format(diff))\n",
    "print(\"The percentage by which it is off from the target size is {} \".format(per_diff))"
   ]
  },
  {
   "cell_type": "markdown",
   "id": "6de59736-d410-41df-bf0a-5a2a61bef198",
   "metadata": {},
   "source": [
    "As we can see, the average block size is very close to the intended target value of 12500000."
   ]
  },
  {
   "cell_type": "markdown",
   "id": "3ae91e8f-34ac-4f7b-bebc-10308fd6c2fd",
   "metadata": {},
   "source": [
    "### Economic value captured by the network"
   ]
  },
  {
   "cell_type": "markdown",
   "id": "2eb7999e-9d73-49a0-b441-17a0b930e252",
   "metadata": {},
   "source": [
    "Now, we wish to estimate of the economic value that was captured by the use of the network, by taking the average basefee over 5 simulation runs and then finding the average of that. "
   ]
  },
  {
   "cell_type": "code",
   "execution_count": 60,
   "id": "a4876b5c-ee1d-4061-950e-2601ea04bcac",
   "metadata": {},
   "outputs": [],
   "source": [
    "def simulate_once_eip1559():\n",
    "    \n",
    "    rand = []\n",
    "    rand_lst = []\n",
    "\n",
    "    for i in range(1000000):\n",
    "        a = random.randint(0,2)\n",
    "        b = a + random.randint(1,9)\n",
    "        c = random.randint(20000,30000)\n",
    "    \n",
    "        rand.append((a,b))\n",
    "        rand_lst.append(c)\n",
    "        \n",
    "\n",
    "    psub = [{\n",
    "        \"policies\": {},\n",
    "        \"variables\": {\n",
    "            \"demand\": demand_functions_eip1559 # step 1\n",
    "        }\n",
    "    }, {\n",
    "        \"policies\": {\n",
    "            \"action\": transaction_selection_eip1559 # step 2\n",
    "        },\n",
    "        \"variables\": {\n",
    "            \"basefee\": update_basefee, # step 3\n",
    "            \"latest_block\": record_latest_block ,\n",
    "            \"n_row\": update_nrow\n",
    "        }\n",
    "    }]\n",
    "\n",
    "    initial_state = {\n",
    "        \"demand\": {},\n",
    "        \"latest_block\": block(size = 0, transactions=[], avg_gas_price = 0),\n",
    "        \"basefee\": 10 * (10 ** 9),\n",
    "        \"n_row\":0\n",
    "    }\n",
    "\n",
    "    blocks = 300\n",
    "\n",
    "    model = Model(\n",
    "        initial_state=initial_state,\n",
    "        state_update_blocks=psub,\n",
    "    )\n",
    "    simulation = Simulation(model=model, timesteps=blocks, runs=1)\n",
    "    experiment = Experiment([simulation])\n",
    "    experiment.engine = Engine(deepcopy=False, drop_substeps=True)\n",
    "    result = experiment.run()\n",
    "    df = pd.DataFrame(result)\n",
    "    \n",
    "    return(df['basefee'].mean())\n",
    "    \n",
    "\n",
    "# Collecting the results from 100 simulation runs \n",
    "\n",
    "simulation_run_list = []\n",
    "\n",
    "for i in range(5):\n",
    "    simulation_run_list.append([simulate_once_eip1559()])"
   ]
  },
  {
   "cell_type": "code",
   "execution_count": 61,
   "id": "e686549c-1d36-48b1-84cc-16b1c43d9c1c",
   "metadata": {},
   "outputs": [
    {
     "name": "stdout",
     "output_type": "stream",
     "text": [
      "The average of the average basefee after 5 runs is 7975142266.252492 \n"
     ]
    }
   ],
   "source": [
    "simulation_run_list = np.array(simulation_run_list)\n",
    "print(\"The average of the average basefee after 5 runs is {} \".format(simulation_run_list.mean()))"
   ]
  },
  {
   "cell_type": "code",
   "execution_count": null,
   "id": "dbfe677c-cd4f-4ff3-a6f6-bfc113e8e3aa",
   "metadata": {},
   "outputs": [],
   "source": []
  },
  {
   "cell_type": "code",
   "execution_count": null,
   "id": "91c369fb-99fa-4fea-96d9-2d94f8e70c11",
   "metadata": {},
   "outputs": [],
   "source": []
  },
  {
   "cell_type": "code",
   "execution_count": null,
   "id": "7191b279-bfca-4ca9-8233-6eb111462473",
   "metadata": {},
   "outputs": [],
   "source": []
  },
  {
   "cell_type": "markdown",
   "id": "00ee3e2f",
   "metadata": {
    "tags": []
   },
   "source": [
    "## Running Simulation with real time data\n",
    "\n",
    "### Rationale\n",
    "\n",
    "- In the previous section for, we used randomly generated transactions to run and compare between legacy and EIP1559 model. \n",
    "- In reality, users make a more calculated decision while submitting their transactions to the Blockchain, thus we also wanted to see how the simulation performs under real time data from the Ethereum blockchain\n",
    "- We tried to call an external api from [BlockCypher](https://www.blockcypher.com/) that that draws out pending transactions from realtime Ethereum's MEMPOOL\n",
    "- Running the simulation alongside with calling external api simultaneously takes sometime (roughly an hour)\n",
    "- Hence, we decided for simplicity sake, we will create a real time transactions dataset by calling the external api seperately to save time for grading\n",
    "\n",
    "### Dataset : realtxndata.csv\n",
    "- Collected transactional data in real time for 300 timesteps on 1/12/2021 from around 12.35pm to 1.10pm \n",
    "- 9 columns=['total','fees','size','gas_limit','gas_price','gas_tip_cap','gas_fee_cap','received','timestep']\n",
    "- only ['gas_limit','gas_tip_cap','gas_fee_cap','timestep'] are used in the code\n",
    "- 449639 rows\n",
    "- We also find out the initial base fee through calling another external api from [etherscan](https://etherscan.io/) at t=0 which we found out to be **120.53390394**"
   ]
  },
  {
   "cell_type": "markdown",
   "id": "5dad1ed4",
   "metadata": {},
   "source": [
    "**Reference Code on how we created the dataset, no need to run this part below**"
   ]
  },
  {
   "cell_type": "code",
   "execution_count": null,
   "id": "79e786a6",
   "metadata": {},
   "outputs": [],
   "source": [
    "# collect realtime data \n",
    "import pandas as pd\n",
    "import json\n",
    "import requests\n",
    "import numpy as np\n",
    "\n",
    "# start up Amazon AWS api gateway service ----> this is to workaround api call limits through ip rotation\n",
    "from requests_ip_rotator import ApiGateway, EXTRA_REGIONS\n",
    "gateway = ApiGateway(\"https://api.blockcypher.com\",access_key_id = 'xxxxxxxxxxxxxxxx', access_key_secret = 'xxxxxxxxxxxxxxxxxxx') # api keys not included since it is private\n",
    "gateway.start() # start up aws api gateway\n",
    "session = requests.Session()\n",
    "session.mount(\"https://api.blockcypher.com\", gateway)\n",
    "\n",
    "def grab_txns_one_block(timestep):\n",
    "    block_txns = pd.DataFrame(columns=['total','fees','size','gas_limit','gas_price','gas_tip_cap','gas_fee_cap','received','timestep'])\n",
    "    for i in range(15):\n",
    "        pendingtxns = session.get('https://api.blockcypher.com/v1/eth/main/txs?limit=100') # call blockcypher api to get pending transactions from real time ethereum mempool\n",
    "        data = pd.DataFrame.from_dict(json.loads(pendingtxns.content), orient='columns').iloc[:,4:12]\n",
    "        data['timestep'] = np.linspace(timestep,timestep,len(data)) # during each call, not every call gives full 100 transactions, hence len(data is used)\n",
    "        block_txns = block_txns.append(data,ignore_index=True)\n",
    "    return block_txns\n",
    "\n",
    "realtime_txns = pd.DataFrame(columns=['total','fees','size','gas_limit','gas_price','gas_tip_cap','gas_fee_cap','received','timestep'])\n",
    "basefee = requests.get('https://api.etherscan.io/api?module=gastracker&action=gasoracle&apikey=YourApiKeyToken').content # call etherscan api to get current base fee of ethereum network\n",
    "realtime_basefee = float(json.loads(basefee)['result']['suggestBaseFee'])\n",
    "\n",
    "for i in range(300): # get txns for 300 timesteps\n",
    "    timestep = i\n",
    "    realtime_txns = realtime_txns.append(grab_txns_one_block(timestep),ignore_index=True)\n",
    "\n",
    "gateway.shutdown() # shutdown aws api gateway\n",
    "\n",
    "realtime_txns.to_csv('realtxndata.csv') # create dataset"
   ]
  },
  {
   "cell_type": "markdown",
   "id": "c3f15825",
   "metadata": {},
   "source": [
    "**START RUNNING FROM HERE**"
   ]
  },
  {
   "cell_type": "code",
   "execution_count": 11,
   "id": "be15f357-02a5-4956-8687-18bc97640737",
   "metadata": {},
   "outputs": [],
   "source": [
    "## Functions \n",
    "\n",
    "realtxndata = pd.read_csv('realtxndata.csv') # import dataset\n",
    "\n",
    "def demand_functions_eip1559(params, substep, state_history, previous_state, policy_input):\n",
    "    \n",
    "    demand_dict = previous_state['demand']\n",
    "    previous_block = previous_state[\"latest_block\"]\n",
    "    \n",
    "    real_data = realtxndata[realtxndata['timestep']==previous_state['timestep']] # get transactions tagged to current timestep\n",
    "\n",
    "    if len(previous_block.transactions) > 0:     # remove transactions that have already been processed in previous block\n",
    "        for tx in previous_block.transactions:\n",
    "            demand_dict.pop(tx.transaction_hash)\n",
    "    \n",
    "    for _,row in real_data.iterrows():\n",
    "        tx = eip1559_transaction(\n",
    "            total_gas = row['gas_limit'],\n",
    "            premium = row['gas_tip_cap'],\n",
    "            fee_cap = row['gas_fee_cap']\n",
    "        )\n",
    "        demand_dict[tx.transaction_hash] = tx\n",
    "        \n",
    "        #print(\"New transaction {}, submitted into the mempool\".format(tx.transaction_hash))\n",
    "    \n",
    "    return (\"demand\", demand_dict)\n",
    "\n",
    "def demand_functions_legacy(params, substep, state_history, previous_state, policy_input):\n",
    "    \n",
    "    demand_dict = previous_state['demand']\n",
    "    previous_block = previous_state[\"latest_block\"]\n",
    "    \n",
    "    real_data = realtxndata[realtxndata['timestep']==previous_state['timestep']] # get transactions tagged to current timestep\n",
    "    \n",
    "    if len(previous_block.transactions) > 0: # remove transactions that have already been processed in previous block\n",
    "        for tx in previous_block.transactions: \n",
    "            demand_dict.pop(tx.transaction_hash)\n",
    "    \n",
    "    for _,row in real_data.iterrows():\n",
    "        tx = legacy_transaction(\n",
    "            total_gas = row['gas_limit'],\n",
    "            fee = row['gas_fee_cap']\n",
    "        )\n",
    "        demand_dict[tx.transaction_hash] = tx\n",
    "        \n",
    "        #print(\"New transaction {}, submitted into the mempool\".format(tx.transaction_hash))\n",
    "    \n",
    "    return (\"demand\", demand_dict)\n",
    "\n",
    "\n",
    "def transaction_selection_eip1559(params, substep, state_history, previous_state):\n",
    "    \n",
    "    demand_dict = previous_state[\"demand\"] #simulates the MEMPOOL which is also the demand_dict returned at demand_function_eip\n",
    "    basefee = previous_state[\"basefee\"]\n",
    "    \n",
    "    size = constants_eip1559[\"MAX_BLOCK_SIZE\"]\n",
    "    final_fee_transactions = {}\n",
    "    final_gas_prices = {}\n",
    "    \n",
    "    for i in demand_dict.keys():\n",
    "        if basefee > demand_dict[i].fee_cap:\n",
    "            continue\n",
    "        else:\n",
    "            final_fee_transactions[i] = (min(demand_dict[i].fee_cap - basefee, demand_dict[i].premium))/demand_dict[i].total_gas_used\n",
    "            final_gas_prices[i] = min(basefee + demand_dict[i].premium, demand_dict[i].fee_cap)\n",
    "            \n",
    "    final_fee_transactions = dict(sorted(final_fee_transactions.items(), key=lambda x: x[1], reverse=True))\n",
    "    \n",
    "    included_transactions = []\n",
    "    total_size_used = 0\n",
    "    gas_fee_total = []\n",
    "    \n",
    "    for i in final_fee_transactions.keys():\n",
    "        \n",
    "        if total_size_used < size:\n",
    "            included_transactions += [demand_dict[i]]\n",
    "            total_size_used += demand_dict[i].total_gas_used\n",
    "            gas_fee_total.append(final_gas_prices[i])\n",
    "        \n",
    "    print(\"{} Number of transactions being included in the next block\".format(len(included_transactions)))\n",
    "    \n",
    "    if(len(gas_fee_total) == 0):\n",
    "        avg_gas_price = 0\n",
    "    else:\n",
    "        avg_gas_price = sum(gas_fee_total)/len(gas_fee_total)\n",
    "        \n",
    "    return { \"block\": block(size = total_size_used, transactions = included_transactions, avg_gas_price = avg_gas_price)}\n",
    "        \n",
    "def transaction_selection_legacy(params, substep, state_history, previous_state):\n",
    "    \n",
    "    demand_dict = previous_state[\"demand\"] #simulates the MEMPOOL which is also the demand_dict returned at demand_function_legacy\n",
    "    \n",
    "    size = constants_legacy[\"MAX_BLOCK_SIZE\"]\n",
    "    final_fee_transactions = {}\n",
    "    \n",
    "    for i in demand_dict.keys():\n",
    "            final_fee_transactions[i] =  (demand_dict[i].fee/demand_dict[i].total_gas_used)    \n",
    "            \n",
    "    final_fee_transactions = dict(sorted(final_fee_transactions.items(), key=lambda x: x[1], reverse=True))\n",
    "    \n",
    "    included_transactions = []\n",
    "    total_size_used = 0\n",
    "    gas_fee_total = []                     \n",
    "    \n",
    "    for i in final_fee_transactions.keys():\n",
    "        \n",
    "        if total_size_used < size:\n",
    "            included_transactions += [demand_dict[i]]\n",
    "            total_size_used += demand_dict[i].total_gas_used\n",
    "            gas_fee_total.append(final_fee_transactions[i])\n",
    "          \n",
    "    print(\"{} Number of transactions being included in the next block\".format(len(included_transactions)))\n",
    "        \n",
    "    return { \"block\": block(size = total_size_used, transactions = included_transactions, avg_gas_price = sum(gas_fee_total)/len(gas_fee_total)) }\n",
    "        \n",
    "def update_basefee(params, substep, state_history, previous_state, policy_input):\n",
    "    \n",
    "    gas_used = sum([i.total_gas_used for i in policy_input[\"block\"].transactions])\n",
    "    basefee = previous_state[\"basefee\"]\n",
    "    \n",
    "    basefee = basefee + basefee * (gas_used - constants_eip1559[\"TARGET_SIZE\"]) // constants_eip1559[\"TARGET_SIZE\"] // constants_eip1559[\"BASEFEE_MAX_CHANGE_DENOMINATOR\"]\n",
    "    \n",
    "    print(\"The new basefee is: {}\".format(basefee))\n",
    "          \n",
    "    return (\"basefee\", basefee)\n",
    "\n",
    "\n",
    "def record_latest_block(params, substep, state_history, previous_state, policy_input):\n",
    "    \n",
    "    block = policy_input[\"block\"]\n",
    "          \n",
    "    print(\"New block recorded\")\n",
    "    \n",
    "    return (\"latest_block\", block)"
   ]
  },
  {
   "cell_type": "markdown",
   "id": "91bc5574",
   "metadata": {},
   "source": [
    "### Legacy"
   ]
  },
  {
   "cell_type": "code",
   "execution_count": 12,
   "id": "1675ec17",
   "metadata": {},
   "outputs": [],
   "source": [
    "psub = [{\n",
    "    \"policies\": {},\n",
    "    \"variables\": {\n",
    "        \"demand\": demand_functions_legacy # step 1\n",
    "    }\n",
    "}, {\n",
    "    \"policies\": {\n",
    "        \"action\": transaction_selection_legacy # step 2\n",
    "    },\n",
    "    \"variables\": {\n",
    "        \"latest_block\": record_latest_block # step 3\n",
    "    }\n",
    "}]\n",
    "\n",
    "initial_state = {\n",
    "    \"demand\": {},\n",
    "    \"latest_block\": block(size = 0, transactions=[], avg_gas_price = 0)\n",
    "}\n",
    "\n",
    "blocks = 300\n",
    "\n",
    "model = Model(\n",
    "    initial_state=initial_state,\n",
    "    state_update_blocks=psub,\n",
    ")\n",
    "simulation = Simulation(model=model, timesteps=blocks, runs=1)\n",
    "experiment = Experiment([simulation])\n",
    "experiment.engine = Engine(deepcopy=False, drop_substeps=True)\n",
    "result = experiment.run()\n",
    "df3 = pd.DataFrame(result) #experimental result"
   ]
  },
  {
   "cell_type": "markdown",
   "id": "92760a95",
   "metadata": {},
   "source": [
    "### EIP1559"
   ]
  },
  {
   "cell_type": "code",
   "execution_count": 13,
   "id": "7700f4bd",
   "metadata": {},
   "outputs": [],
   "source": [
    "psub = [{\n",
    "    \"policies\": {},\n",
    "    \"variables\": {\n",
    "        \"demand\": demand_functions_eip1559 # step 1\n",
    "    }\n",
    "}, {\n",
    "    \"policies\": {\n",
    "        \"action\": transaction_selection_eip1559 # step 2\n",
    "    },\n",
    "    \"variables\": {\n",
    "        \"basefee\": update_basefee, # step 3\n",
    "        \"latest_block\": record_latest_block # step 3 too\n",
    "    }\n",
    "}]\n",
    "\n",
    "initial_state = {\n",
    "    \"demand\": {},\n",
    "    \"latest_block\": block(size = 0, transactions=[], avg_gas_price = 0),\n",
    "    \"basefee\": 120.53390394 * (10 ** 9) # we use the initial real time basefee we found out when we created data at t=0!\n",
    "}\n",
    "\n",
    "blocks = 300\n",
    "\n",
    "model = Model(\n",
    "    initial_state=initial_state,\n",
    "    state_update_blocks=psub,\n",
    ")\n",
    "simulation = Simulation(model=model, timesteps=blocks, runs=1)\n",
    "experiment = Experiment([simulation])\n",
    "experiment.engine = Engine(deepcopy=False, drop_substeps=True)\n",
    "result = experiment.run()\n",
    "df4 = pd.DataFrame(result) #experimental result"
   ]
  },
  {
   "cell_type": "markdown",
   "id": "1d4c054b",
   "metadata": {},
   "source": [
    "### Preprocessing of Data (with realtime data)"
   ]
  },
  {
   "cell_type": "code",
   "execution_count": 15,
   "id": "504f4cad",
   "metadata": {},
   "outputs": [],
   "source": [
    "df3[\"txs_per_block\"] = df3.latest_block.apply(\n",
    "    lambda block: len(block.transactions)\n",
    ")\n",
    "df3['block_size'] = df3.latest_block.apply(\n",
    "    lambda block: block.size\n",
    ")\n",
    "df3['avg_gas_price'] = df3.latest_block.apply(\n",
    "    lambda block: block.avg_gas_price\n",
    ")\n",
    "\n",
    "\n",
    "\n",
    "df4[\"txs_per_block\"] = df4.latest_block.apply(\n",
    "    lambda block: len(block.transactions)\n",
    ")\n",
    "df4['block_size'] = df4.latest_block.apply(\n",
    "    lambda block: block.size\n",
    ")\n",
    "df4['avg_gas_price'] = df4.latest_block.apply(\n",
    "    lambda block: block.avg_gas_price\n",
    ")\n",
    "\n",
    "N = 5\n",
    "# Drop first N columns of dataframe\n",
    "df_legacy_real = df3.iloc[: , N:]\n",
    "df_eip1559_real = df4.iloc[: , N:]\n",
    "df_eip1559_real['basefee'] = df4['basefee']\n",
    "\n",
    "df_legacy_real['gas_price_diff'] = df_legacy_real['avg_gas_price'].diff().abs()\n",
    "df_eip1559_real['gas_price_diff'] = df_eip1559_real['avg_gas_price'].diff().abs()"
   ]
  },
  {
   "cell_type": "markdown",
   "id": "4fa83e3a",
   "metadata": {},
   "source": [
    "### Legacy results under real time data"
   ]
  },
  {
   "cell_type": "code",
   "execution_count": 16,
   "id": "893d7f1a",
   "metadata": {},
   "outputs": [
    {
     "data": {
      "text/html": [
       "<div>\n",
       "<style scoped>\n",
       "    .dataframe tbody tr th:only-of-type {\n",
       "        vertical-align: middle;\n",
       "    }\n",
       "\n",
       "    .dataframe tbody tr th {\n",
       "        vertical-align: top;\n",
       "    }\n",
       "\n",
       "    .dataframe thead th {\n",
       "        text-align: right;\n",
       "    }\n",
       "</style>\n",
       "<table border=\"1\" class=\"dataframe\">\n",
       "  <thead>\n",
       "    <tr style=\"text-align: right;\">\n",
       "      <th></th>\n",
       "      <th>substep</th>\n",
       "      <th>timestep</th>\n",
       "      <th>txs_per_block</th>\n",
       "      <th>block_size</th>\n",
       "      <th>avg_gas_price</th>\n",
       "      <th>gas_price_diff</th>\n",
       "    </tr>\n",
       "  </thead>\n",
       "  <tbody>\n",
       "    <tr>\n",
       "      <th>0</th>\n",
       "      <td>0</td>\n",
       "      <td>0</td>\n",
       "      <td>0</td>\n",
       "      <td>0</td>\n",
       "      <td>0.000000e+00</td>\n",
       "      <td>NaN</td>\n",
       "    </tr>\n",
       "    <tr>\n",
       "      <th>1</th>\n",
       "      <td>2</td>\n",
       "      <td>1</td>\n",
       "      <td>376</td>\n",
       "      <td>12520266</td>\n",
       "      <td>8.264730e+06</td>\n",
       "      <td>8.264730e+06</td>\n",
       "    </tr>\n",
       "    <tr>\n",
       "      <th>2</th>\n",
       "      <td>2</td>\n",
       "      <td>2</td>\n",
       "      <td>465</td>\n",
       "      <td>12518824</td>\n",
       "      <td>7.996072e+06</td>\n",
       "      <td>2.686579e+05</td>\n",
       "    </tr>\n",
       "    <tr>\n",
       "      <th>3</th>\n",
       "      <td>2</td>\n",
       "      <td>3</td>\n",
       "      <td>454</td>\n",
       "      <td>12516781</td>\n",
       "      <td>7.290266e+06</td>\n",
       "      <td>7.058069e+05</td>\n",
       "    </tr>\n",
       "    <tr>\n",
       "      <th>4</th>\n",
       "      <td>2</td>\n",
       "      <td>4</td>\n",
       "      <td>488</td>\n",
       "      <td>12510765</td>\n",
       "      <td>6.872772e+06</td>\n",
       "      <td>4.174936e+05</td>\n",
       "    </tr>\n",
       "    <tr>\n",
       "      <th>...</th>\n",
       "      <td>...</td>\n",
       "      <td>...</td>\n",
       "      <td>...</td>\n",
       "      <td>...</td>\n",
       "      <td>...</td>\n",
       "      <td>...</td>\n",
       "    </tr>\n",
       "    <tr>\n",
       "      <th>296</th>\n",
       "      <td>2</td>\n",
       "      <td>296</td>\n",
       "      <td>358</td>\n",
       "      <td>12523167</td>\n",
       "      <td>7.533116e+06</td>\n",
       "      <td>2.254404e+05</td>\n",
       "    </tr>\n",
       "    <tr>\n",
       "      <th>297</th>\n",
       "      <td>2</td>\n",
       "      <td>297</td>\n",
       "      <td>471</td>\n",
       "      <td>12515913</td>\n",
       "      <td>7.333468e+06</td>\n",
       "      <td>1.996478e+05</td>\n",
       "    </tr>\n",
       "    <tr>\n",
       "      <th>298</th>\n",
       "      <td>2</td>\n",
       "      <td>298</td>\n",
       "      <td>436</td>\n",
       "      <td>12516859</td>\n",
       "      <td>7.709889e+06</td>\n",
       "      <td>3.764215e+05</td>\n",
       "    </tr>\n",
       "    <tr>\n",
       "      <th>299</th>\n",
       "      <td>2</td>\n",
       "      <td>299</td>\n",
       "      <td>431</td>\n",
       "      <td>12530540</td>\n",
       "      <td>7.488116e+06</td>\n",
       "      <td>2.217730e+05</td>\n",
       "    </tr>\n",
       "    <tr>\n",
       "      <th>300</th>\n",
       "      <td>2</td>\n",
       "      <td>300</td>\n",
       "      <td>469</td>\n",
       "      <td>12520682</td>\n",
       "      <td>8.186279e+06</td>\n",
       "      <td>6.981628e+05</td>\n",
       "    </tr>\n",
       "  </tbody>\n",
       "</table>\n",
       "<p>301 rows × 6 columns</p>\n",
       "</div>"
      ],
      "text/plain": [
       "     substep  timestep  txs_per_block  block_size  avg_gas_price  \\\n",
       "0          0         0              0           0   0.000000e+00   \n",
       "1          2         1            376    12520266   8.264730e+06   \n",
       "2          2         2            465    12518824   7.996072e+06   \n",
       "3          2         3            454    12516781   7.290266e+06   \n",
       "4          2         4            488    12510765   6.872772e+06   \n",
       "..       ...       ...            ...         ...            ...   \n",
       "296        2       296            358    12523167   7.533116e+06   \n",
       "297        2       297            471    12515913   7.333468e+06   \n",
       "298        2       298            436    12516859   7.709889e+06   \n",
       "299        2       299            431    12530540   7.488116e+06   \n",
       "300        2       300            469    12520682   8.186279e+06   \n",
       "\n",
       "     gas_price_diff  \n",
       "0               NaN  \n",
       "1      8.264730e+06  \n",
       "2      2.686579e+05  \n",
       "3      7.058069e+05  \n",
       "4      4.174936e+05  \n",
       "..              ...  \n",
       "296    2.254404e+05  \n",
       "297    1.996478e+05  \n",
       "298    3.764215e+05  \n",
       "299    2.217730e+05  \n",
       "300    6.981628e+05  \n",
       "\n",
       "[301 rows x 6 columns]"
      ]
     },
     "execution_count": 16,
     "metadata": {},
     "output_type": "execute_result"
    }
   ],
   "source": [
    "df_legacy_real"
   ]
  },
  {
   "cell_type": "markdown",
   "id": "db49b248",
   "metadata": {},
   "source": [
    "### EIP1559 results under real time data"
   ]
  },
  {
   "cell_type": "code",
   "execution_count": 17,
   "id": "90679cb1",
   "metadata": {},
   "outputs": [
    {
     "data": {
      "text/html": [
       "<div>\n",
       "<style scoped>\n",
       "    .dataframe tbody tr th:only-of-type {\n",
       "        vertical-align: middle;\n",
       "    }\n",
       "\n",
       "    .dataframe tbody tr th {\n",
       "        vertical-align: top;\n",
       "    }\n",
       "\n",
       "    .dataframe thead th {\n",
       "        text-align: right;\n",
       "    }\n",
       "</style>\n",
       "<table border=\"1\" class=\"dataframe\">\n",
       "  <thead>\n",
       "    <tr style=\"text-align: right;\">\n",
       "      <th></th>\n",
       "      <th>run</th>\n",
       "      <th>substep</th>\n",
       "      <th>timestep</th>\n",
       "      <th>txs_per_block</th>\n",
       "      <th>block_size</th>\n",
       "      <th>avg_gas_price</th>\n",
       "      <th>basefee</th>\n",
       "      <th>gas_price_diff</th>\n",
       "    </tr>\n",
       "  </thead>\n",
       "  <tbody>\n",
       "    <tr>\n",
       "      <th>0</th>\n",
       "      <td>1</td>\n",
       "      <td>0</td>\n",
       "      <td>0</td>\n",
       "      <td>0</td>\n",
       "      <td>0</td>\n",
       "      <td>0.000000e+00</td>\n",
       "      <td>1.205339e+11</td>\n",
       "      <td>NaN</td>\n",
       "    </tr>\n",
       "    <tr>\n",
       "      <th>1</th>\n",
       "      <td>1</td>\n",
       "      <td>2</td>\n",
       "      <td>1</td>\n",
       "      <td>239</td>\n",
       "      <td>25192497</td>\n",
       "      <td>1.770309e+11</td>\n",
       "      <td>1.358327e+11</td>\n",
       "      <td>1.770309e+11</td>\n",
       "    </tr>\n",
       "    <tr>\n",
       "      <th>2</th>\n",
       "      <td>1</td>\n",
       "      <td>2</td>\n",
       "      <td>2</td>\n",
       "      <td>302</td>\n",
       "      <td>25150242</td>\n",
       "      <td>1.687834e+11</td>\n",
       "      <td>1.530158e+11</td>\n",
       "      <td>8.247494e+09</td>\n",
       "    </tr>\n",
       "    <tr>\n",
       "      <th>3</th>\n",
       "      <td>1</td>\n",
       "      <td>2</td>\n",
       "      <td>3</td>\n",
       "      <td>703</td>\n",
       "      <td>25862846</td>\n",
       "      <td>1.579512e+11</td>\n",
       "      <td>1.734631e+11</td>\n",
       "      <td>1.083228e+10</td>\n",
       "    </tr>\n",
       "    <tr>\n",
       "      <th>4</th>\n",
       "      <td>1</td>\n",
       "      <td>2</td>\n",
       "      <td>4</td>\n",
       "      <td>266</td>\n",
       "      <td>25001482</td>\n",
       "      <td>1.791539e+11</td>\n",
       "      <td>1.951486e+11</td>\n",
       "      <td>2.120272e+10</td>\n",
       "    </tr>\n",
       "    <tr>\n",
       "      <th>...</th>\n",
       "      <td>...</td>\n",
       "      <td>...</td>\n",
       "      <td>...</td>\n",
       "      <td>...</td>\n",
       "      <td>...</td>\n",
       "      <td>...</td>\n",
       "      <td>...</td>\n",
       "      <td>...</td>\n",
       "    </tr>\n",
       "    <tr>\n",
       "      <th>296</th>\n",
       "      <td>1</td>\n",
       "      <td>2</td>\n",
       "      <td>296</td>\n",
       "      <td>92</td>\n",
       "      <td>25243510</td>\n",
       "      <td>3.026622e+11</td>\n",
       "      <td>3.390397e+11</td>\n",
       "      <td>4.027055e+10</td>\n",
       "    </tr>\n",
       "    <tr>\n",
       "      <th>297</th>\n",
       "      <td>1</td>\n",
       "      <td>2</td>\n",
       "      <td>297</td>\n",
       "      <td>33</td>\n",
       "      <td>10673180</td>\n",
       "      <td>3.421288e+11</td>\n",
       "      <td>3.328460e+11</td>\n",
       "      <td>3.946658e+10</td>\n",
       "    </tr>\n",
       "    <tr>\n",
       "      <th>298</th>\n",
       "      <td>1</td>\n",
       "      <td>2</td>\n",
       "      <td>298</td>\n",
       "      <td>43</td>\n",
       "      <td>9032838</td>\n",
       "      <td>3.387798e+11</td>\n",
       "      <td>3.213057e+11</td>\n",
       "      <td>3.349024e+09</td>\n",
       "    </tr>\n",
       "    <tr>\n",
       "      <th>299</th>\n",
       "      <td>1</td>\n",
       "      <td>2</td>\n",
       "      <td>299</td>\n",
       "      <td>41</td>\n",
       "      <td>13601970</td>\n",
       "      <td>3.244488e+11</td>\n",
       "      <td>3.248464e+11</td>\n",
       "      <td>1.433097e+10</td>\n",
       "    </tr>\n",
       "    <tr>\n",
       "      <th>300</th>\n",
       "      <td>1</td>\n",
       "      <td>2</td>\n",
       "      <td>300</td>\n",
       "      <td>32</td>\n",
       "      <td>5522049</td>\n",
       "      <td>3.374468e+11</td>\n",
       "      <td>3.021788e+11</td>\n",
       "      <td>1.299801e+10</td>\n",
       "    </tr>\n",
       "  </tbody>\n",
       "</table>\n",
       "<p>301 rows × 8 columns</p>\n",
       "</div>"
      ],
      "text/plain": [
       "     run  substep  timestep  txs_per_block  block_size  avg_gas_price  \\\n",
       "0      1        0         0              0           0   0.000000e+00   \n",
       "1      1        2         1            239    25192497   1.770309e+11   \n",
       "2      1        2         2            302    25150242   1.687834e+11   \n",
       "3      1        2         3            703    25862846   1.579512e+11   \n",
       "4      1        2         4            266    25001482   1.791539e+11   \n",
       "..   ...      ...       ...            ...         ...            ...   \n",
       "296    1        2       296             92    25243510   3.026622e+11   \n",
       "297    1        2       297             33    10673180   3.421288e+11   \n",
       "298    1        2       298             43     9032838   3.387798e+11   \n",
       "299    1        2       299             41    13601970   3.244488e+11   \n",
       "300    1        2       300             32     5522049   3.374468e+11   \n",
       "\n",
       "          basefee  gas_price_diff  \n",
       "0    1.205339e+11             NaN  \n",
       "1    1.358327e+11    1.770309e+11  \n",
       "2    1.530158e+11    8.247494e+09  \n",
       "3    1.734631e+11    1.083228e+10  \n",
       "4    1.951486e+11    2.120272e+10  \n",
       "..            ...             ...  \n",
       "296  3.390397e+11    4.027055e+10  \n",
       "297  3.328460e+11    3.946658e+10  \n",
       "298  3.213057e+11    3.349024e+09  \n",
       "299  3.248464e+11    1.433097e+10  \n",
       "300  3.021788e+11    1.299801e+10  \n",
       "\n",
       "[301 rows x 8 columns]"
      ]
     },
     "execution_count": 17,
     "metadata": {},
     "output_type": "execute_result"
    }
   ],
   "source": [
    "df_eip1559_real"
   ]
  },
  {
   "cell_type": "markdown",
   "id": "a72441ba",
   "metadata": {},
   "source": [
    "## OBJECTIVE 5.1: Gas price - new v/s old **under real time data**"
   ]
  },
  {
   "cell_type": "markdown",
   "id": "edb2d35d",
   "metadata": {},
   "source": [
    "### Legacy"
   ]
  },
  {
   "cell_type": "code",
   "execution_count": 18,
   "id": "cad756c4",
   "metadata": {},
   "outputs": [
    {
     "data": {
      "text/plain": [
       "<AxesSubplot:xlabel='timestep'>"
      ]
     },
     "execution_count": 18,
     "metadata": {},
     "output_type": "execute_result"
    },
    {
     "data": {
      "image/png": "[encoded data removed]",
      "text/plain": [
       "<Figure size 432x288 with 1 Axes>"
      ]
     },
     "metadata": {
      "needs_background": "light"
     },
     "output_type": "display_data"
    }
   ],
   "source": [
    "df_legacy_real[df_legacy_real.timestep > 1].plot(\"timestep\", \"avg_gas_price\")"
   ]
  },
  {
   "cell_type": "code",
   "execution_count": 19,
   "id": "75bbc5df",
   "metadata": {},
   "outputs": [
    {
     "data": {
      "text/plain": [
       "1633702262410.2688"
      ]
     },
     "execution_count": 19,
     "metadata": {},
     "output_type": "execute_result"
    }
   ],
   "source": [
    "df_legacy_real['avg_gas_price'].var()"
   ]
  },
  {
   "cell_type": "code",
   "execution_count": 20,
   "id": "7bfd762d",
   "metadata": {},
   "outputs": [
    {
     "data": {
      "text/plain": [
       "<AxesSubplot:ylabel='Frequency'>"
      ]
     },
     "execution_count": 20,
     "metadata": {},
     "output_type": "execute_result"
    },
    {
     "data": {
      "image/png": "[encoded data removed]",
      "text/plain": [
       "<Figure size 432x288 with 1 Axes>"
      ]
     },
     "metadata": {
      "needs_background": "light"
     },
     "output_type": "display_data"
    }
   ],
   "source": [
    "df_legacy_real['avg_gas_price'].plot(kind = 'hist')"
   ]
  },
  {
   "cell_type": "code",
   "execution_count": 21,
   "id": "0210b0cd",
   "metadata": {},
   "outputs": [
    {
     "data": {
      "text/plain": [
       "<AxesSubplot:ylabel='Frequency'>"
      ]
     },
     "execution_count": 21,
     "metadata": {},
     "output_type": "execute_result"
    },
    {
     "data": {
      "image/png": "[encoded data removed]",
      "text/plain": [
       "<Figure size 432x288 with 1 Axes>"
      ]
     },
     "metadata": {
      "needs_background": "light"
     },
     "output_type": "display_data"
    }
   ],
   "source": [
    "df_legacy_real['gas_price_diff'].plot(kind = 'hist')"
   ]
  },
  {
   "cell_type": "markdown",
   "id": "a7164c45",
   "metadata": {},
   "source": [
    "### eip1559"
   ]
  },
  {
   "cell_type": "code",
   "execution_count": 22,
   "id": "f9c52655",
   "metadata": {},
   "outputs": [
    {
     "data": {
      "text/plain": [
       "<AxesSubplot:xlabel='timestep'>"
      ]
     },
     "execution_count": 22,
     "metadata": {},
     "output_type": "execute_result"
    },
    {
     "data": {
      "image/png": "[encoded data removed]",
      "text/plain": [
       "<Figure size 432x288 with 1 Axes>"
      ]
     },
     "metadata": {
      "needs_background": "light"
     },
     "output_type": "display_data"
    }
   ],
   "source": [
    "df_eip1559_real[df_eip1559_real.timestep > 1].plot(\"timestep\", \"avg_gas_price\")"
   ]
  },
  {
   "cell_type": "code",
   "execution_count": 23,
   "id": "2a71767d",
   "metadata": {},
   "outputs": [
    {
     "data": {
      "text/plain": [
       "1.1736321415773262e+22"
      ]
     },
     "execution_count": 23,
     "metadata": {},
     "output_type": "execute_result"
    }
   ],
   "source": [
    "df_eip1559_real['avg_gas_price'].var()"
   ]
  },
  {
   "cell_type": "code",
   "execution_count": 24,
   "id": "deb372a0",
   "metadata": {},
   "outputs": [
    {
     "data": {
      "text/plain": [
       "<AxesSubplot:ylabel='Frequency'>"
      ]
     },
     "execution_count": 24,
     "metadata": {},
     "output_type": "execute_result"
    },
    {
     "data": {
      "image/png": "[encoded data removed]",
      "text/plain": [
       "<Figure size 432x288 with 1 Axes>"
      ]
     },
     "metadata": {
      "needs_background": "light"
     },
     "output_type": "display_data"
    }
   ],
   "source": [
    "df_eip1559_real['avg_gas_price'].plot(kind = 'hist')"
   ]
  },
  {
   "cell_type": "code",
   "execution_count": 25,
   "id": "a8aee019",
   "metadata": {},
   "outputs": [
    {
     "data": {
      "text/plain": [
       "<AxesSubplot:ylabel='Frequency'>"
      ]
     },
     "execution_count": 25,
     "metadata": {},
     "output_type": "execute_result"
    },
    {
     "data": {
      "image/png": "[encoded data removed]",
      "text/plain": [
       "<Figure size 432x288 with 1 Axes>"
      ]
     },
     "metadata": {
      "needs_background": "light"
     },
     "output_type": "display_data"
    }
   ],
   "source": [
    "df_eip1559_real['gas_price_diff'].plot(kind = 'hist')"
   ]
  },
  {
   "cell_type": "markdown",
   "id": "7a746a4a",
   "metadata": {},
   "source": [
    "## OBJECTIVE 5.2: Block size - new v/s old **under real time data**"
   ]
  },
  {
   "cell_type": "markdown",
   "id": "cabfb47d",
   "metadata": {},
   "source": [
    "### Legacy"
   ]
  },
  {
   "cell_type": "code",
   "execution_count": 26,
   "id": "1ee82bfa",
   "metadata": {},
   "outputs": [
    {
     "data": {
      "text/plain": [
       "<AxesSubplot:xlabel='timestep'>"
      ]
     },
     "execution_count": 26,
     "metadata": {},
     "output_type": "execute_result"
    },
    {
     "data": {
      "image/png": "[encoded data removed]",
      "text/plain": [
       "<Figure size 432x288 with 1 Axes>"
      ]
     },
     "metadata": {
      "needs_background": "light"
     },
     "output_type": "display_data"
    }
   ],
   "source": [
    "df_legacy_real[df_legacy_real.timestep > 1].plot(\"timestep\", \"block_size\")"
   ]
  },
  {
   "cell_type": "code",
   "execution_count": 27,
   "id": "403ea9fa",
   "metadata": {},
   "outputs": [
    {
     "data": {
      "text/plain": [
       "525875505222.89355"
      ]
     },
     "execution_count": 27,
     "metadata": {},
     "output_type": "execute_result"
    }
   ],
   "source": [
    "df_legacy_real['block_size'].var()"
   ]
  },
  {
   "cell_type": "markdown",
   "id": "5c467698",
   "metadata": {},
   "source": [
    "### eip1559"
   ]
  },
  {
   "cell_type": "code",
   "execution_count": 28,
   "id": "78b71f98",
   "metadata": {},
   "outputs": [
    {
     "data": {
      "text/plain": [
       "<AxesSubplot:xlabel='timestep'>"
      ]
     },
     "execution_count": 28,
     "metadata": {},
     "output_type": "execute_result"
    },
    {
     "data": {
      "image/png": "[encoded data removed]",
      "text/plain": [
       "<Figure size 432x288 with 1 Axes>"
      ]
     },
     "metadata": {
      "needs_background": "light"
     },
     "output_type": "display_data"
    }
   ],
   "source": [
    "df_eip1559_real[df_eip1559_real.timestep > 1].plot(\"timestep\", \"block_size\")"
   ]
  },
  {
   "cell_type": "code",
   "execution_count": 29,
   "id": "efec1352",
   "metadata": {},
   "outputs": [
    {
     "data": {
      "text/plain": [
       "115459008062022.23"
      ]
     },
     "execution_count": 29,
     "metadata": {},
     "output_type": "execute_result"
    }
   ],
   "source": [
    "df_eip1559_real['block_size'].var()"
   ]
  },
  {
   "cell_type": "code",
   "execution_count": 30,
   "id": "326b251f",
   "metadata": {},
   "outputs": [
    {
     "name": "stdout",
     "output_type": "stream",
     "text": [
      "The variance after eip1559 is 219.55578252895552 times higher than in the legacy case\n"
     ]
    }
   ],
   "source": [
    "print(\"The variance after eip1559 is {} times higher than in the legacy case\".format(df_eip1559_real['block_size'].var()/df_legacy_real['block_size'].var()))"
   ]
  },
  {
   "cell_type": "markdown",
   "id": "30abbcba",
   "metadata": {},
   "source": [
    "## OBJECTIVE 5.3: Base fee, Maxfee and Tip evolution **under real time data**"
   ]
  },
  {
   "cell_type": "markdown",
   "id": "ec7b8f49",
   "metadata": {},
   "source": [
    "### Base fee"
   ]
  },
  {
   "cell_type": "code",
   "execution_count": 32,
   "id": "39b382d1",
   "metadata": {},
   "outputs": [
    {
     "data": {
      "text/plain": [
       "<AxesSubplot:xlabel='timestep'>"
      ]
     },
     "execution_count": 32,
     "metadata": {},
     "output_type": "execute_result"
    },
    {
     "data": {
      "image/png": "[encoded data removed]",
      "text/plain": [
       "<Figure size 432x288 with 1 Axes>"
      ]
     },
     "metadata": {
      "needs_background": "light"
     },
     "output_type": "display_data"
    }
   ],
   "source": [
    "df_eip1559_real.plot('timestep', ['basefee'])"
   ]
  },
  {
   "cell_type": "markdown",
   "id": "31812dad",
   "metadata": {},
   "source": [
    "### Max fee and tip"
   ]
  },
  {
   "cell_type": "code",
   "execution_count": 36,
   "id": "633a2a86",
   "metadata": {},
   "outputs": [
    {
     "name": "stderr",
     "output_type": "stream",
     "text": [
      "C:\\Users\\Admin\\anaconda3\\envs\\sma\\lib\\site-packages\\ipykernel_launcher.py:2: DeprecationWarning: The default dtype for empty Series will be 'object' instead of 'float64' in a future version. Specify a dtype explicitly to silence this warning.\n",
      "  \n",
      "C:\\Users\\Admin\\anaconda3\\envs\\sma\\lib\\site-packages\\ipykernel_launcher.py:6: DeprecationWarning: The default dtype for empty Series will be 'object' instead of 'float64' in a future version. Specify a dtype explicitly to silence this warning.\n",
      "  \n"
     ]
    }
   ],
   "source": [
    "df4[\"avg_tip\"] = df4.latest_block.apply(\n",
    "    lambda block: pd.Series([tx.premium for tx in block.transactions]).mean()\n",
    ")\n",
    "\n",
    "df4[\"avg_max_fee\"] = df4.latest_block.apply(\n",
    "    lambda block: pd.Series([tx.fee_cap for tx in block.transactions]).mean()\n",
    ")\n",
    "\n",
    "df4[\"avg_max_fee\"] = df4[\"avg_max_fee\"].fillna(0)\n",
    "df4[\"avg_tip\"] = df4[\"avg_tip\"].fillna(0)"
   ]
  },
  {
   "cell_type": "code",
   "execution_count": 37,
   "id": "e17d4da8",
   "metadata": {},
   "outputs": [
    {
     "data": {
      "text/plain": [
       "Text(0.5, 1.0, 'Histogram of avg_max_fee under EIP1559 (realtime data)')"
      ]
     },
     "execution_count": 37,
     "metadata": {},
     "output_type": "execute_result"
    },
    {
     "data": {
      "image/png": "[encoded data removed]",
      "text/plain": [
       "<Figure size 432x288 with 1 Axes>"
      ]
     },
     "metadata": {
      "needs_background": "light"
     },
     "output_type": "display_data"
    }
   ],
   "source": [
    "df4[\"avg_max_fee\"].hist(bins = 10)\n",
    "plt.title('Histogram of avg_max_fee under EIP1559 (realtime data)')"
   ]
  },
  {
   "cell_type": "code",
   "execution_count": 38,
   "id": "9db5d356",
   "metadata": {},
   "outputs": [
    {
     "data": {
      "text/plain": [
       "Text(0.5, 1.0, 'Histogram of avg_tip under EIP1559 (realtime data)')"
      ]
     },
     "execution_count": 38,
     "metadata": {},
     "output_type": "execute_result"
    },
    {
     "data": {
      "image/png": "[encoded data removed]",
      "text/plain": [
       "<Figure size 432x288 with 1 Axes>"
      ]
     },
     "metadata": {
      "needs_background": "light"
     },
     "output_type": "display_data"
    }
   ],
   "source": [
    "df4[\"avg_tip\"].hist(bins = 10)\n",
    "plt.title('Histogram of avg_tip under EIP1559 (realtime data)')"
   ]
  }
 ],
 "metadata": {
  "kernelspec": {
   "display_name": "Python 3",
   "language": "python",
   "name": "python3"
  },
  "language_info": {
   "codemirror_mode": {
    "name": "ipython",
    "version": 3
   },
   "file_extension": ".py",
   "mimetype": "text/x-python",
   "name": "python",
   "nbconvert_exporter": "python",
   "pygments_lexer": "ipython3",
   "version": "3.8.2"
  }
 },
 "nbformat": 4,
 "nbformat_minor": 5
}
